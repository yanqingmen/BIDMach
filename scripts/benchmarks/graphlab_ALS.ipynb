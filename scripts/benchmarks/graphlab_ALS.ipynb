{
 "metadata": {
  "name": "",
  "signature": "sha256:ad92d22461092ed2991a0374c5d5187892479b0db395a0e1a6d7692b3fc3b6aa"
 },
 "nbformat": 3,
 "nbformat_minor": 0,
 "worksheets": [
  {
   "cells": [
    {
     "cell_type": "code",
     "collapsed": false,
     "input": [
      "import graphlab as gl\n",
      "ratings = gl.SFrame.read_csv(\"../../data/netflix/netflix_mm.train\", delimiter=\"\\t\", header=False,\n",
      "                             column_type_hints=[int,int,int]);\n",
      "ratings.rename({'X1':'movieid', 'X2':'userid', 'X3':'rating'});"
     ],
     "language": "python",
     "metadata": {},
     "outputs": [
      {
       "output_type": "stream",
       "stream": "stderr",
       "text": [
        "[INFO] Start server at: ipc:///tmp/graphlab_server-25324 - Server binary: /usr/local/lib/python2.7/dist-packages/graphlab/unity_server - Server log: /tmp/graphlab_server_1431068549.log\n"
       ]
      },
      {
       "output_type": "stream",
       "stream": "stderr",
       "text": [
        "[INFO] GraphLab Server Version: 1.3.0\n"
       ]
      },
      {
       "html": [
        "<pre>PROGRESS: Read 4082259 lines. Lines per second: 4.76371e+06</pre>"
       ],
       "metadata": {},
       "output_type": "display_data",
       "text": [
        "PROGRESS: Read 4082259 lines. Lines per second: 4.76371e+06"
       ]
      },
      {
       "html": [
        "<pre>PROGRESS: Read 56182627 lines. Lines per second: 9.38805e+06</pre>"
       ],
       "metadata": {},
       "output_type": "display_data",
       "text": [
        "PROGRESS: Read 56182627 lines. Lines per second: 9.38805e+06"
       ]
      },
      {
       "html": [
        "<pre>PROGRESS: Finished parsing file /code/BIDMach/data/netflix/netflix_mm.train</pre>"
       ],
       "metadata": {},
       "output_type": "display_data",
       "text": [
        "PROGRESS: Finished parsing file /code/BIDMach/data/netflix/netflix_mm.train"
       ]
      },
      {
       "html": [
        "<pre>PROGRESS: Parsing completed. Parsed 99072124 lines in 10.0376 secs.</pre>"
       ],
       "metadata": {},
       "output_type": "display_data",
       "text": [
        "PROGRESS: Parsing completed. Parsed 99072124 lines in 10.0376 secs."
       ]
      }
     ],
     "prompt_number": 1
    },
    {
     "cell_type": "code",
     "collapsed": false,
     "input": [
      "ratings.head()"
     ],
     "language": "python",
     "metadata": {},
     "outputs": [
      {
       "html": [
        "<div style=\"max-height:1000px;max-width:1500px;overflow:auto;\"><table frame=\"box\" rules=\"cols\">\n",
        "    <tr>\n",
        "        <th style=\"padding-left: 1em; padding-right: 1em; text-align: center\">movieid</th>\n",
        "        <th style=\"padding-left: 1em; padding-right: 1em; text-align: center\">userid</th>\n",
        "        <th style=\"padding-left: 1em; padding-right: 1em; text-align: center\">rating</th>\n",
        "    </tr>\n",
        "    <tr>\n",
        "        <td style=\"padding-left: 1em; padding-right: 1em; text-align: center; vertical-align: top\">1</td>\n",
        "        <td style=\"padding-left: 1em; padding-right: 1em; text-align: center; vertical-align: top\">1</td>\n",
        "        <td style=\"padding-left: 1em; padding-right: 1em; text-align: center; vertical-align: top\">3</td>\n",
        "    </tr>\n",
        "    <tr>\n",
        "        <td style=\"padding-left: 1em; padding-right: 1em; text-align: center; vertical-align: top\">8</td>\n",
        "        <td style=\"padding-left: 1em; padding-right: 1em; text-align: center; vertical-align: top\">1</td>\n",
        "        <td style=\"padding-left: 1em; padding-right: 1em; text-align: center; vertical-align: top\">4</td>\n",
        "    </tr>\n",
        "    <tr>\n",
        "        <td style=\"padding-left: 1em; padding-right: 1em; text-align: center; vertical-align: top\">17</td>\n",
        "        <td style=\"padding-left: 1em; padding-right: 1em; text-align: center; vertical-align: top\">1</td>\n",
        "        <td style=\"padding-left: 1em; padding-right: 1em; text-align: center; vertical-align: top\">2</td>\n",
        "    </tr>\n",
        "    <tr>\n",
        "        <td style=\"padding-left: 1em; padding-right: 1em; text-align: center; vertical-align: top\">30</td>\n",
        "        <td style=\"padding-left: 1em; padding-right: 1em; text-align: center; vertical-align: top\">1</td>\n",
        "        <td style=\"padding-left: 1em; padding-right: 1em; text-align: center; vertical-align: top\">3</td>\n",
        "    </tr>\n",
        "    <tr>\n",
        "        <td style=\"padding-left: 1em; padding-right: 1em; text-align: center; vertical-align: top\">44</td>\n",
        "        <td style=\"padding-left: 1em; padding-right: 1em; text-align: center; vertical-align: top\">1</td>\n",
        "        <td style=\"padding-left: 1em; padding-right: 1em; text-align: center; vertical-align: top\">3</td>\n",
        "    </tr>\n",
        "    <tr>\n",
        "        <td style=\"padding-left: 1em; padding-right: 1em; text-align: center; vertical-align: top\">58</td>\n",
        "        <td style=\"padding-left: 1em; padding-right: 1em; text-align: center; vertical-align: top\">1</td>\n",
        "        <td style=\"padding-left: 1em; padding-right: 1em; text-align: center; vertical-align: top\">5</td>\n",
        "    </tr>\n",
        "    <tr>\n",
        "        <td style=\"padding-left: 1em; padding-right: 1em; text-align: center; vertical-align: top\">76</td>\n",
        "        <td style=\"padding-left: 1em; padding-right: 1em; text-align: center; vertical-align: top\">1</td>\n",
        "        <td style=\"padding-left: 1em; padding-right: 1em; text-align: center; vertical-align: top\">3</td>\n",
        "    </tr>\n",
        "    <tr>\n",
        "        <td style=\"padding-left: 1em; padding-right: 1em; text-align: center; vertical-align: top\">80</td>\n",
        "        <td style=\"padding-left: 1em; padding-right: 1em; text-align: center; vertical-align: top\">1</td>\n",
        "        <td style=\"padding-left: 1em; padding-right: 1em; text-align: center; vertical-align: top\">3</td>\n",
        "    </tr>\n",
        "    <tr>\n",
        "        <td style=\"padding-left: 1em; padding-right: 1em; text-align: center; vertical-align: top\">81</td>\n",
        "        <td style=\"padding-left: 1em; padding-right: 1em; text-align: center; vertical-align: top\">1</td>\n",
        "        <td style=\"padding-left: 1em; padding-right: 1em; text-align: center; vertical-align: top\">3</td>\n",
        "    </tr>\n",
        "    <tr>\n",
        "        <td style=\"padding-left: 1em; padding-right: 1em; text-align: center; vertical-align: top\">83</td>\n",
        "        <td style=\"padding-left: 1em; padding-right: 1em; text-align: center; vertical-align: top\">1</td>\n",
        "        <td style=\"padding-left: 1em; padding-right: 1em; text-align: center; vertical-align: top\">3</td>\n",
        "    </tr>\n",
        "</table>\n",
        "[10 rows x 3 columns]<br/>\n",
        "</div>"
       ],
       "metadata": {},
       "output_type": "pyout",
       "prompt_number": 2,
       "text": [
        "Columns:\n",
        "\tmovieid\tint\n",
        "\tuserid\tint\n",
        "\trating\tint\n",
        "\n",
        "Rows: 10\n",
        "\n",
        "Data:\n",
        "+---------+--------+--------+\n",
        "| movieid | userid | rating |\n",
        "+---------+--------+--------+\n",
        "|    1    |   1    |   3    |\n",
        "|    8    |   1    |   4    |\n",
        "|    17   |   1    |   2    |\n",
        "|    30   |   1    |   3    |\n",
        "|    44   |   1    |   3    |\n",
        "|    58   |   1    |   5    |\n",
        "|    76   |   1    |   3    |\n",
        "|    80   |   1    |   3    |\n",
        "|    81   |   1    |   3    |\n",
        "|    83   |   1    |   3    |\n",
        "+---------+--------+--------+\n",
        "[10 rows x 3 columns]\n"
       ]
      }
     ],
     "prompt_number": 2
    },
    {
     "cell_type": "code",
     "collapsed": false,
     "input": [
      "ratings['userid'].max()"
     ],
     "language": "python",
     "metadata": {},
     "outputs": [
      {
       "metadata": {},
       "output_type": "pyout",
       "prompt_number": 3,
       "text": [
        "480189"
       ]
      }
     ],
     "prompt_number": 3
    },
    {
     "cell_type": "code",
     "collapsed": false,
     "input": [
      "training, testing = ratings.random_split(0.9)"
     ],
     "language": "python",
     "metadata": {},
     "outputs": [],
     "prompt_number": 4
    },
    {
     "cell_type": "code",
     "collapsed": false,
     "input": [
      "#training, testing = gl.recommender.random_split_by_user(ratings, 'userid', 'movieid', max_num_users=1000, item_test_proportion=0.3)\n",
      "#print training.num_rows(), testing.num_rows()"
     ],
     "language": "python",
     "metadata": {},
     "outputs": [],
     "prompt_number": 5
    },
    {
     "cell_type": "code",
     "collapsed": false,
     "input": [
      "m = gl.recommender.factorization_recommender.create(training, 'userid', 'movieid', 'rating',\n",
      "                                                    num_factors=512, max_iterations=4, solver='sgd')"
     ],
     "language": "python",
     "metadata": {},
     "outputs": [
      {
       "html": [
        "<pre>PROGRESS: Recsys training: model = factorization_recommender</pre>"
       ],
       "metadata": {},
       "output_type": "display_data",
       "text": [
        "PROGRESS: Recsys training: model = factorization_recommender"
       ]
      },
      {
       "html": [
        "<pre>PROGRESS: Preparing data set.</pre>"
       ],
       "metadata": {},
       "output_type": "display_data",
       "text": [
        "PROGRESS: Preparing data set."
       ]
      },
      {
       "html": [
        "<pre>PROGRESS:     Data has 89163900 observations with 479957 users and 17770 items.</pre>"
       ],
       "metadata": {},
       "output_type": "display_data",
       "text": [
        "PROGRESS:     Data has 89163900 observations with 479957 users and 17770 items."
       ]
      },
      {
       "html": [
        "<pre>PROGRESS:     Data prepared in: 34.5961s</pre>"
       ],
       "metadata": {},
       "output_type": "display_data",
       "text": [
        "PROGRESS:     Data prepared in: 34.5961s"
       ]
      },
      {
       "html": [
        "<pre>PROGRESS: Training factorization_recommender for recommendations.</pre>"
       ],
       "metadata": {},
       "output_type": "display_data",
       "text": [
        "PROGRESS: Training factorization_recommender for recommendations."
       ]
      },
      {
       "html": [
        "<pre>PROGRESS: +--------------------------------+--------------------------------------------------+----------+</pre>"
       ],
       "metadata": {},
       "output_type": "display_data",
       "text": [
        "PROGRESS: +--------------------------------+--------------------------------------------------+----------+"
       ]
      },
      {
       "html": [
        "<pre>PROGRESS: | Parameter                      | Description                                      | Value    |</pre>"
       ],
       "metadata": {},
       "output_type": "display_data",
       "text": [
        "PROGRESS: | Parameter                      | Description                                      | Value    |"
       ]
      },
      {
       "html": [
        "<pre>PROGRESS: +--------------------------------+--------------------------------------------------+----------+</pre>"
       ],
       "metadata": {},
       "output_type": "display_data",
       "text": [
        "PROGRESS: +--------------------------------+--------------------------------------------------+----------+"
       ]
      },
      {
       "html": [
        "<pre>PROGRESS: | num_factors                    | Factor Dimension                                 | 512      |</pre>"
       ],
       "metadata": {},
       "output_type": "display_data",
       "text": [
        "PROGRESS: | num_factors                    | Factor Dimension                                 | 512      |"
       ]
      },
      {
       "html": [
        "<pre>PROGRESS: | regularization                 | L2 Regularization on Factors                     | 1e-08    |</pre>"
       ],
       "metadata": {},
       "output_type": "display_data",
       "text": [
        "PROGRESS: | regularization                 | L2 Regularization on Factors                     | 1e-08    |"
       ]
      },
      {
       "html": [
        "<pre>PROGRESS: | solver                         | Solver used for training                         | sgd      |</pre>"
       ],
       "metadata": {},
       "output_type": "display_data",
       "text": [
        "PROGRESS: | solver                         | Solver used for training                         | sgd      |"
       ]
      },
      {
       "html": [
        "<pre>PROGRESS: | linear_regularization          | L2 Regularization on Linear Coefficients         | 1e-10    |</pre>"
       ],
       "metadata": {},
       "output_type": "display_data",
       "text": [
        "PROGRESS: | linear_regularization          | L2 Regularization on Linear Coefficients         | 1e-10    |"
       ]
      },
      {
       "html": [
        "<pre>PROGRESS: | max_iterations                 | Maximum Number of Iterations                     | 4        |</pre>"
       ],
       "metadata": {},
       "output_type": "display_data",
       "text": [
        "PROGRESS: | max_iterations                 | Maximum Number of Iterations                     | 4        |"
       ]
      },
      {
       "html": [
        "<pre>PROGRESS: +--------------------------------+--------------------------------------------------+----------+</pre>"
       ],
       "metadata": {},
       "output_type": "display_data",
       "text": [
        "PROGRESS: +--------------------------------+--------------------------------------------------+----------+"
       ]
      },
      {
       "html": [
        "<pre>PROGRESS:   Optimizing model using SGD; tuning step size.</pre>"
       ],
       "metadata": {},
       "output_type": "display_data",
       "text": [
        "PROGRESS:   Optimizing model using SGD; tuning step size."
       ]
      },
      {
       "html": [
        "<pre>PROGRESS:   Using 11145487 / 89163900 points for tuning the step size.</pre>"
       ],
       "metadata": {},
       "output_type": "display_data",
       "text": [
        "PROGRESS:   Using 11145487 / 89163900 points for tuning the step size."
       ]
      },
      {
       "html": [
        "<pre>PROGRESS: +---------+-------------------+------------------------------------------+</pre>"
       ],
       "metadata": {},
       "output_type": "display_data",
       "text": [
        "PROGRESS: +---------+-------------------+------------------------------------------+"
       ]
      },
      {
       "html": [
        "<pre>PROGRESS: | Attempt | Initial Step Size | Estimated Objective Value                |</pre>"
       ],
       "metadata": {},
       "output_type": "display_data",
       "text": [
        "PROGRESS: | Attempt | Initial Step Size | Estimated Objective Value                |"
       ]
      },
      {
       "html": [
        "<pre>PROGRESS: +---------+-------------------+------------------------------------------+</pre>"
       ],
       "metadata": {},
       "output_type": "display_data",
       "text": [
        "PROGRESS: +---------+-------------------+------------------------------------------+"
       ]
      },
      {
       "html": [
        "<pre>PROGRESS: | 0       | 25                | Not Viable                               |</pre>"
       ],
       "metadata": {},
       "output_type": "display_data",
       "text": [
        "PROGRESS: | 0       | 25                | Not Viable                               |"
       ]
      },
      {
       "html": [
        "<pre>PROGRESS: | 1       | 6.25              | Not Viable                               |</pre>"
       ],
       "metadata": {},
       "output_type": "display_data",
       "text": [
        "PROGRESS: | 1       | 6.25              | Not Viable                               |"
       ]
      },
      {
       "html": [
        "<pre>PROGRESS: | 2       | 1.5625            | Not Viable                               |</pre>"
       ],
       "metadata": {},
       "output_type": "display_data",
       "text": [
        "PROGRESS: | 2       | 1.5625            | Not Viable                               |"
       ]
      },
      {
       "html": [
        "<pre>PROGRESS: | 3       | 0.390625          | Not Viable                               |</pre>"
       ],
       "metadata": {},
       "output_type": "display_data",
       "text": [
        "PROGRESS: | 3       | 0.390625          | Not Viable                               |"
       ]
      },
      {
       "html": [
        "<pre>PROGRESS: | 4       | 0.0976562         | Not Viable                               |</pre>"
       ],
       "metadata": {},
       "output_type": "display_data",
       "text": [
        "PROGRESS: | 4       | 0.0976562         | Not Viable                               |"
       ]
      },
      {
       "html": [
        "<pre>PROGRESS: | 5       | 0.0244141         | 0.708316                                 |</pre>"
       ],
       "metadata": {},
       "output_type": "display_data",
       "text": [
        "PROGRESS: | 5       | 0.0244141         | 0.708316                                 |"
       ]
      },
      {
       "html": [
        "<pre>PROGRESS: | 6       | 0.012207          | 0.832388                                 |</pre>"
       ],
       "metadata": {},
       "output_type": "display_data",
       "text": [
        "PROGRESS: | 6       | 0.012207          | 0.832388                                 |"
       ]
      },
      {
       "html": [
        "<pre>PROGRESS: | 7       | 0.00610352        | 0.8552                                   |</pre>"
       ],
       "metadata": {},
       "output_type": "display_data",
       "text": [
        "PROGRESS: | 7       | 0.00610352        | 0.8552                                   |"
       ]
      },
      {
       "html": [
        "<pre>PROGRESS: | 8       | 0.00305176        | 0.884658                                 |</pre>"
       ],
       "metadata": {},
       "output_type": "display_data",
       "text": [
        "PROGRESS: | 8       | 0.00305176        | 0.884658                                 |"
       ]
      },
      {
       "html": [
        "<pre>PROGRESS: +---------+-------------------+------------------------------------------+</pre>"
       ],
       "metadata": {},
       "output_type": "display_data",
       "text": [
        "PROGRESS: +---------+-------------------+------------------------------------------+"
       ]
      },
      {
       "html": [
        "<pre>PROGRESS: | Final   | 0.0244141         | 0.708316                                 |</pre>"
       ],
       "metadata": {},
       "output_type": "display_data",
       "text": [
        "PROGRESS: | Final   | 0.0244141         | 0.708316                                 |"
       ]
      },
      {
       "html": [
        "<pre>PROGRESS: +---------+-------------------+------------------------------------------+</pre>"
       ],
       "metadata": {},
       "output_type": "display_data",
       "text": [
        "PROGRESS: +---------+-------------------+------------------------------------------+"
       ]
      },
      {
       "html": [
        "<pre>PROGRESS: Starting Optimization.</pre>"
       ],
       "metadata": {},
       "output_type": "display_data",
       "text": [
        "PROGRESS: Starting Optimization."
       ]
      },
      {
       "html": [
        "<pre>PROGRESS: +---------+--------------+-------------------+-----------------------+-------------+</pre>"
       ],
       "metadata": {},
       "output_type": "display_data",
       "text": [
        "PROGRESS: +---------+--------------+-------------------+-----------------------+-------------+"
       ]
      },
      {
       "html": [
        "<pre>PROGRESS: | Iter.   | Elapsed Time | Approx. Objective | Approx. Training RMSE | Step Size   |</pre>"
       ],
       "metadata": {},
       "output_type": "display_data",
       "text": [
        "PROGRESS: | Iter.   | Elapsed Time | Approx. Objective | Approx. Training RMSE | Step Size   |"
       ]
      },
      {
       "html": [
        "<pre>PROGRESS: +---------+--------------+-------------------+-----------------------+-------------+</pre>"
       ],
       "metadata": {},
       "output_type": "display_data",
       "text": [
        "PROGRESS: +---------+--------------+-------------------+-----------------------+-------------+"
       ]
      },
      {
       "html": [
        "<pre>PROGRESS: | Initial | 100us        | 1.17631           | 1.08458               |             |</pre>"
       ],
       "metadata": {},
       "output_type": "display_data",
       "text": [
        "PROGRESS: | Initial | 100us        | 1.17631           | 1.08458               |             |"
       ]
      },
      {
       "html": [
        "<pre>PROGRESS: +---------+--------------+-------------------+-----------------------+-------------+</pre>"
       ],
       "metadata": {},
       "output_type": "display_data",
       "text": [
        "PROGRESS: +---------+--------------+-------------------+-----------------------+-------------+"
       ]
      },
      {
       "html": [
        "<pre>PROGRESS: | 1       | 33.88s       | 0.799822          | 0.891014              | 0.0244141   |</pre>"
       ],
       "metadata": {},
       "output_type": "display_data",
       "text": [
        "PROGRESS: | 1       | 33.88s       | 0.799822          | 0.891014              | 0.0244141   |"
       ]
      },
      {
       "html": [
        "<pre>PROGRESS: | 2       | 1m 8s        | 0.647667          | 0.7989                | 0.0145167   |</pre>"
       ],
       "metadata": {},
       "output_type": "display_data",
       "text": [
        "PROGRESS: | 2       | 1m 8s        | 0.647667          | 0.7989                | 0.0145167   |"
       ]
      },
      {
       "html": [
        "<pre>PROGRESS: | 3       | 1m 42s       | 0.455859          | 0.665612              | 0.0107102   |</pre>"
       ],
       "metadata": {},
       "output_type": "display_data",
       "text": [
        "PROGRESS: | 3       | 1m 42s       | 0.455859          | 0.665612              | 0.0107102   |"
       ]
      },
      {
       "html": [
        "<pre>PROGRESS: | 4       | 2m 16s       | 0.30782           | 0.54154               | 0.00863167  |</pre>"
       ],
       "metadata": {},
       "output_type": "display_data",
       "text": [
        "PROGRESS: | 4       | 2m 16s       | 0.30782           | 0.54154               | 0.00863167  |"
       ]
      },
      {
       "html": [
        "<pre>PROGRESS: +---------+--------------+-------------------+-----------------------+-------------+</pre>"
       ],
       "metadata": {},
       "output_type": "display_data",
       "text": [
        "PROGRESS: +---------+--------------+-------------------+-----------------------+-------------+"
       ]
      },
      {
       "html": [
        "<pre>PROGRESS: Optimization Complete: Maximum number of passes through the data reached.</pre>"
       ],
       "metadata": {},
       "output_type": "display_data",
       "text": [
        "PROGRESS: Optimization Complete: Maximum number of passes through the data reached."
       ]
      },
      {
       "html": [
        "<pre>PROGRESS: Computing final objective value and training RMSE.</pre>"
       ],
       "metadata": {},
       "output_type": "display_data",
       "text": [
        "PROGRESS: Computing final objective value and training RMSE."
       ]
      },
      {
       "html": [
        "<pre>PROGRESS:        Final objective value: 0.196364</pre>"
       ],
       "metadata": {},
       "output_type": "display_data",
       "text": [
        "PROGRESS:        Final objective value: 0.196364"
       ]
      },
      {
       "html": [
        "<pre>PROGRESS:        Final training RMSE: 0.426391</pre>"
       ],
       "metadata": {},
       "output_type": "display_data",
       "text": [
        "PROGRESS:        Final training RMSE: 0.426391"
       ]
      }
     ],
     "prompt_number": 6
    },
    {
     "cell_type": "code",
     "collapsed": false,
     "input": [
      "opts=m.get_current_options()\n",
      "opts[\"regularization\"]=1e-4"
     ],
     "language": "python",
     "metadata": {},
     "outputs": [],
     "prompt_number": 18
    },
    {
     "cell_type": "code",
     "collapsed": false,
     "input": [
      "opts=m.get_current_options()\n",
      "opts[\"regularization\"]"
     ],
     "language": "python",
     "metadata": {},
     "outputs": [
      {
       "metadata": {},
       "output_type": "pyout",
       "prompt_number": 20,
       "text": [
        "1e-08"
       ]
      }
     ],
     "prompt_number": 20
    },
    {
     "cell_type": "code",
     "collapsed": false,
     "input": [
      "# Look at model statistics\n",
      "m"
     ],
     "language": "python",
     "metadata": {},
     "outputs": [
      {
       "metadata": {},
       "output_type": "pyout",
       "prompt_number": 19,
       "text": [
        "Class                           : FactorizationRecommender\n",
        "\n",
        "Schema\n",
        "------\n",
        "User ID                         : userid\n",
        "Item ID                         : movieid\n",
        "Target                          : rating\n",
        "Additional observation features : 0\n",
        "Number of user side features    : 0\n",
        "Number of item side features    : 0\n",
        "\n",
        "Statistics\n",
        "----------\n",
        "Number of observations          : 89163900\n",
        "Number of users                 : 479957\n",
        "Number of items                 : 17770\n",
        "\n",
        "Training summary\n",
        "----------------\n",
        "Training time                   : 319.24\n",
        "\n",
        "Settings\n",
        "--------\n",
        "additional_iterations_if_unhealthy: 5\n",
        "sgd_step_adjustment_interval    : 4\n",
        "num_factors                     : 512\n",
        "init_random_sigma               : 0.01\n",
        "max_iterations                  : 4\n",
        "regularization_type             : normal\n",
        "side_data_factorization         : 1\n",
        "regularization                  : 0.0\n",
        "num_tempering_iterations        : 4\n",
        "sgd_step_size                   : 0.0\n",
        "sgd_trial_sample_proportion     : 0.125\n",
        "sgd_sampling_block_size         : 131072\n",
        "binary_target                   : 0\n",
        "nmf                             : 0\n",
        "track_exact_loss                : 0\n",
        "sgd_trial_sample_minimum_size   : 10000\n",
        "sgd_convergence_interval        : 4\n",
        "solver                          : sgd\n",
        "tempering_regularization_start_value: 0.0\n",
        "sgd_convergence_threshold       : 0.0\n",
        "sgd_max_trial_iterations        : 5\n",
        "step_size_decrease_rate         : 0.75\n",
        "linear_regularization           : 0.0\n"
       ]
      }
     ],
     "prompt_number": 19
    },
    {
     "cell_type": "code",
     "collapsed": false,
     "input": [
      "# Evaluate rmse (average prediction error) on the test set\n",
      "m.evaluate(testing)"
     ],
     "language": "python",
     "metadata": {},
     "outputs": [
      {
       "html": [
        "<pre>PROGRESS: recommendations finished on 1000/453024 queries. users per second: 1576.81</pre>"
       ],
       "metadata": {},
       "output_type": "display_data",
       "text": [
        "PROGRESS: recommendations finished on 1000/453024 queries. users per second: 1576.81"
       ]
      },
      {
       "html": [
        "<pre>PROGRESS: recommendations finished on 2000/453024 queries. users per second: 1432.31</pre>"
       ],
       "metadata": {},
       "output_type": "display_data",
       "text": [
        "PROGRESS: recommendations finished on 2000/453024 queries. users per second: 1432.31"
       ]
      },
      {
       "html": [
        "<pre>PROGRESS: recommendations finished on 3000/453024 queries. users per second: 1353.21</pre>"
       ],
       "metadata": {},
       "output_type": "display_data",
       "text": [
        "PROGRESS: recommendations finished on 3000/453024 queries. users per second: 1353.21"
       ]
      },
      {
       "html": [
        "<pre>PROGRESS: recommendations finished on 4000/453024 queries. users per second: 1265.44</pre>"
       ],
       "metadata": {},
       "output_type": "display_data",
       "text": [
        "PROGRESS: recommendations finished on 4000/453024 queries. users per second: 1265.44"
       ]
      },
      {
       "html": [
        "<pre>PROGRESS: recommendations finished on 5000/453024 queries. users per second: 1205.98</pre>"
       ],
       "metadata": {},
       "output_type": "display_data",
       "text": [
        "PROGRESS: recommendations finished on 5000/453024 queries. users per second: 1205.98"
       ]
      },
      {
       "html": [
        "<pre>PROGRESS: recommendations finished on 6000/453024 queries. users per second: 1173.38</pre>"
       ],
       "metadata": {},
       "output_type": "display_data",
       "text": [
        "PROGRESS: recommendations finished on 6000/453024 queries. users per second: 1173.38"
       ]
      },
      {
       "html": [
        "<pre>PROGRESS: recommendations finished on 7000/453024 queries. users per second: 1145.66</pre>"
       ],
       "metadata": {},
       "output_type": "display_data",
       "text": [
        "PROGRESS: recommendations finished on 7000/453024 queries. users per second: 1145.66"
       ]
      },
      {
       "html": [
        "<pre>PROGRESS: recommendations finished on 8000/453024 queries. users per second: 1135.97</pre>"
       ],
       "metadata": {},
       "output_type": "display_data",
       "text": [
        "PROGRESS: recommendations finished on 8000/453024 queries. users per second: 1135.97"
       ]
      },
      {
       "html": [
        "<pre>PROGRESS: recommendations finished on 9000/453024 queries. users per second: 1124.87</pre>"
       ],
       "metadata": {},
       "output_type": "display_data",
       "text": [
        "PROGRESS: recommendations finished on 9000/453024 queries. users per second: 1124.87"
       ]
      },
      {
       "html": [
        "<pre>PROGRESS: recommendations finished on 10000/453024 queries. users per second: 1121.21</pre>"
       ],
       "metadata": {},
       "output_type": "display_data",
       "text": [
        "PROGRESS: recommendations finished on 10000/453024 queries. users per second: 1121.21"
       ]
      },
      {
       "html": [
        "<pre>PROGRESS: recommendations finished on 11000/453024 queries. users per second: 1130.55</pre>"
       ],
       "metadata": {},
       "output_type": "display_data",
       "text": [
        "PROGRESS: recommendations finished on 11000/453024 queries. users per second: 1130.55"
       ]
      },
      {
       "html": [
        "<pre>PROGRESS: recommendations finished on 12000/453024 queries. users per second: 1132.52</pre>"
       ],
       "metadata": {},
       "output_type": "display_data",
       "text": [
        "PROGRESS: recommendations finished on 12000/453024 queries. users per second: 1132.52"
       ]
      },
      {
       "html": [
        "<pre>PROGRESS: recommendations finished on 13000/453024 queries. users per second: 1140.95</pre>"
       ],
       "metadata": {},
       "output_type": "display_data",
       "text": [
        "PROGRESS: recommendations finished on 13000/453024 queries. users per second: 1140.95"
       ]
      },
      {
       "html": [
        "<pre>PROGRESS: recommendations finished on 14000/453024 queries. users per second: 1150.38</pre>"
       ],
       "metadata": {},
       "output_type": "display_data",
       "text": [
        "PROGRESS: recommendations finished on 14000/453024 queries. users per second: 1150.38"
       ]
      },
      {
       "html": [
        "<pre>PROGRESS: recommendations finished on 15000/453024 queries. users per second: 1164.08</pre>"
       ],
       "metadata": {},
       "output_type": "display_data",
       "text": [
        "PROGRESS: recommendations finished on 15000/453024 queries. users per second: 1164.08"
       ]
      },
      {
       "html": [
        "<pre>PROGRESS: recommendations finished on 16000/453024 queries. users per second: 1178.91</pre>"
       ],
       "metadata": {},
       "output_type": "display_data",
       "text": [
        "PROGRESS: recommendations finished on 16000/453024 queries. users per second: 1178.91"
       ]
      },
      {
       "html": [
        "<pre>PROGRESS: recommendations finished on 17000/453024 queries. users per second: 1194.53</pre>"
       ],
       "metadata": {},
       "output_type": "display_data",
       "text": [
        "PROGRESS: recommendations finished on 17000/453024 queries. users per second: 1194.53"
       ]
      },
      {
       "html": [
        "<pre>PROGRESS: recommendations finished on 18000/453024 queries. users per second: 1205.84</pre>"
       ],
       "metadata": {},
       "output_type": "display_data",
       "text": [
        "PROGRESS: recommendations finished on 18000/453024 queries. users per second: 1205.84"
       ]
      },
      {
       "html": [
        "<pre>PROGRESS: recommendations finished on 19000/453024 queries. users per second: 1225.24</pre>"
       ],
       "metadata": {},
       "output_type": "display_data",
       "text": [
        "PROGRESS: recommendations finished on 19000/453024 queries. users per second: 1225.24"
       ]
      },
      {
       "html": [
        "<pre>PROGRESS: recommendations finished on 20000/453024 queries. users per second: 1243.28</pre>"
       ],
       "metadata": {},
       "output_type": "display_data",
       "text": [
        "PROGRESS: recommendations finished on 20000/453024 queries. users per second: 1243.28"
       ]
      },
      {
       "html": [
        "<pre>PROGRESS: recommendations finished on 21000/453024 queries. users per second: 1262.1</pre>"
       ],
       "metadata": {},
       "output_type": "display_data",
       "text": [
        "PROGRESS: recommendations finished on 21000/453024 queries. users per second: 1262.1"
       ]
      },
      {
       "html": [
        "<pre>PROGRESS: recommendations finished on 22000/453024 queries. users per second: 1279.94</pre>"
       ],
       "metadata": {},
       "output_type": "display_data",
       "text": [
        "PROGRESS: recommendations finished on 22000/453024 queries. users per second: 1279.94"
       ]
      },
      {
       "html": [
        "<pre>PROGRESS: recommendations finished on 23000/453024 queries. users per second: 1298.61</pre>"
       ],
       "metadata": {},
       "output_type": "display_data",
       "text": [
        "PROGRESS: recommendations finished on 23000/453024 queries. users per second: 1298.61"
       ]
      },
      {
       "html": [
        "<pre>PROGRESS: recommendations finished on 24000/453024 queries. users per second: 1316.77</pre>"
       ],
       "metadata": {},
       "output_type": "display_data",
       "text": [
        "PROGRESS: recommendations finished on 24000/453024 queries. users per second: 1316.77"
       ]
      },
      {
       "html": [
        "<pre>PROGRESS: recommendations finished on 25000/453024 queries. users per second: 1334.58</pre>"
       ],
       "metadata": {},
       "output_type": "display_data",
       "text": [
        "PROGRESS: recommendations finished on 25000/453024 queries. users per second: 1334.58"
       ]
      },
      {
       "html": [
        "<pre>PROGRESS: recommendations finished on 26000/453024 queries. users per second: 1352.03</pre>"
       ],
       "metadata": {},
       "output_type": "display_data",
       "text": [
        "PROGRESS: recommendations finished on 26000/453024 queries. users per second: 1352.03"
       ]
      },
      {
       "html": [
        "<pre>PROGRESS: recommendations finished on 27000/453024 queries. users per second: 1369.23</pre>"
       ],
       "metadata": {},
       "output_type": "display_data",
       "text": [
        "PROGRESS: recommendations finished on 27000/453024 queries. users per second: 1369.23"
       ]
      },
      {
       "html": [
        "<pre>PROGRESS: recommendations finished on 28000/453024 queries. users per second: 1385.4</pre>"
       ],
       "metadata": {},
       "output_type": "display_data",
       "text": [
        "PROGRESS: recommendations finished on 28000/453024 queries. users per second: 1385.4"
       ]
      },
      {
       "html": [
        "<pre>PROGRESS: recommendations finished on 29000/453024 queries. users per second: 1401.57</pre>"
       ],
       "metadata": {},
       "output_type": "display_data",
       "text": [
        "PROGRESS: recommendations finished on 29000/453024 queries. users per second: 1401.57"
       ]
      },
      {
       "html": [
        "<pre>PROGRESS: recommendations finished on 30000/453024 queries. users per second: 1417.21</pre>"
       ],
       "metadata": {},
       "output_type": "display_data",
       "text": [
        "PROGRESS: recommendations finished on 30000/453024 queries. users per second: 1417.21"
       ]
      },
      {
       "html": [
        "<pre>PROGRESS: recommendations finished on 31000/453024 queries. users per second: 1432.08</pre>"
       ],
       "metadata": {},
       "output_type": "display_data",
       "text": [
        "PROGRESS: recommendations finished on 31000/453024 queries. users per second: 1432.08"
       ]
      },
      {
       "html": [
        "<pre>PROGRESS: recommendations finished on 32000/453024 queries. users per second: 1446.76</pre>"
       ],
       "metadata": {},
       "output_type": "display_data",
       "text": [
        "PROGRESS: recommendations finished on 32000/453024 queries. users per second: 1446.76"
       ]
      },
      {
       "html": [
        "<pre>PROGRESS: recommendations finished on 33000/453024 queries. users per second: 1460.87</pre>"
       ],
       "metadata": {},
       "output_type": "display_data",
       "text": [
        "PROGRESS: recommendations finished on 33000/453024 queries. users per second: 1460.87"
       ]
      },
      {
       "html": [
        "<pre>PROGRESS: recommendations finished on 34000/453024 queries. users per second: 1473.95</pre>"
       ],
       "metadata": {},
       "output_type": "display_data",
       "text": [
        "PROGRESS: recommendations finished on 34000/453024 queries. users per second: 1473.95"
       ]
      },
      {
       "html": [
        "<pre>PROGRESS: recommendations finished on 35000/453024 queries. users per second: 1485.97</pre>"
       ],
       "metadata": {},
       "output_type": "display_data",
       "text": [
        "PROGRESS: recommendations finished on 35000/453024 queries. users per second: 1485.97"
       ]
      },
      {
       "html": [
        "<pre>PROGRESS: recommendations finished on 36000/453024 queries. users per second: 1497.34</pre>"
       ],
       "metadata": {},
       "output_type": "display_data",
       "text": [
        "PROGRESS: recommendations finished on 36000/453024 queries. users per second: 1497.34"
       ]
      },
      {
       "html": [
        "<pre>PROGRESS: recommendations finished on 37000/453024 queries. users per second: 1509.46</pre>"
       ],
       "metadata": {},
       "output_type": "display_data",
       "text": [
        "PROGRESS: recommendations finished on 37000/453024 queries. users per second: 1509.46"
       ]
      },
      {
       "html": [
        "<pre>PROGRESS: recommendations finished on 38000/453024 queries. users per second: 1521.04</pre>"
       ],
       "metadata": {},
       "output_type": "display_data",
       "text": [
        "PROGRESS: recommendations finished on 38000/453024 queries. users per second: 1521.04"
       ]
      },
      {
       "html": [
        "<pre>PROGRESS: recommendations finished on 39000/453024 queries. users per second: 1532.64</pre>"
       ],
       "metadata": {},
       "output_type": "display_data",
       "text": [
        "PROGRESS: recommendations finished on 39000/453024 queries. users per second: 1532.64"
       ]
      },
      {
       "html": [
        "<pre>PROGRESS: recommendations finished on 40000/453024 queries. users per second: 1543.76</pre>"
       ],
       "metadata": {},
       "output_type": "display_data",
       "text": [
        "PROGRESS: recommendations finished on 40000/453024 queries. users per second: 1543.76"
       ]
      },
      {
       "html": [
        "<pre>PROGRESS: recommendations finished on 41000/453024 queries. users per second: 1554.27</pre>"
       ],
       "metadata": {},
       "output_type": "display_data",
       "text": [
        "PROGRESS: recommendations finished on 41000/453024 queries. users per second: 1554.27"
       ]
      },
      {
       "html": [
        "<pre>PROGRESS: recommendations finished on 42000/453024 queries. users per second: 1564.43</pre>"
       ],
       "metadata": {},
       "output_type": "display_data",
       "text": [
        "PROGRESS: recommendations finished on 42000/453024 queries. users per second: 1564.43"
       ]
      },
      {
       "html": [
        "<pre>PROGRESS: recommendations finished on 43000/453024 queries. users per second: 1574.23</pre>"
       ],
       "metadata": {},
       "output_type": "display_data",
       "text": [
        "PROGRESS: recommendations finished on 43000/453024 queries. users per second: 1574.23"
       ]
      },
      {
       "html": [
        "<pre>PROGRESS: recommendations finished on 44000/453024 queries. users per second: 1584.15</pre>"
       ],
       "metadata": {},
       "output_type": "display_data",
       "text": [
        "PROGRESS: recommendations finished on 44000/453024 queries. users per second: 1584.15"
       ]
      },
      {
       "html": [
        "<pre>PROGRESS: recommendations finished on 45000/453024 queries. users per second: 1594.05</pre>"
       ],
       "metadata": {},
       "output_type": "display_data",
       "text": [
        "PROGRESS: recommendations finished on 45000/453024 queries. users per second: 1594.05"
       ]
      },
      {
       "html": [
        "<pre>PROGRESS: recommendations finished on 46000/453024 queries. users per second: 1602.79</pre>"
       ],
       "metadata": {},
       "output_type": "display_data",
       "text": [
        "PROGRESS: recommendations finished on 46000/453024 queries. users per second: 1602.79"
       ]
      },
      {
       "html": [
        "<pre>PROGRESS: recommendations finished on 47000/453024 queries. users per second: 1611.95</pre>"
       ],
       "metadata": {},
       "output_type": "display_data",
       "text": [
        "PROGRESS: recommendations finished on 47000/453024 queries. users per second: 1611.95"
       ]
      },
      {
       "html": [
        "<pre>PROGRESS: recommendations finished on 48000/453024 queries. users per second: 1620.28</pre>"
       ],
       "metadata": {},
       "output_type": "display_data",
       "text": [
        "PROGRESS: recommendations finished on 48000/453024 queries. users per second: 1620.28"
       ]
      },
      {
       "html": [
        "<pre>PROGRESS: recommendations finished on 49000/453024 queries. users per second: 1628.36</pre>"
       ],
       "metadata": {},
       "output_type": "display_data",
       "text": [
        "PROGRESS: recommendations finished on 49000/453024 queries. users per second: 1628.36"
       ]
      },
      {
       "html": [
        "<pre>PROGRESS: recommendations finished on 50000/453024 queries. users per second: 1636.41</pre>"
       ],
       "metadata": {},
       "output_type": "display_data",
       "text": [
        "PROGRESS: recommendations finished on 50000/453024 queries. users per second: 1636.41"
       ]
      },
      {
       "html": [
        "<pre>PROGRESS: recommendations finished on 51000/453024 queries. users per second: 1644.48</pre>"
       ],
       "metadata": {},
       "output_type": "display_data",
       "text": [
        "PROGRESS: recommendations finished on 51000/453024 queries. users per second: 1644.48"
       ]
      },
      {
       "html": [
        "<pre>PROGRESS: recommendations finished on 52000/453024 queries. users per second: 1651.99</pre>"
       ],
       "metadata": {},
       "output_type": "display_data",
       "text": [
        "PROGRESS: recommendations finished on 52000/453024 queries. users per second: 1651.99"
       ]
      },
      {
       "html": [
        "<pre>PROGRESS: recommendations finished on 53000/453024 queries. users per second: 1659.28</pre>"
       ],
       "metadata": {},
       "output_type": "display_data",
       "text": [
        "PROGRESS: recommendations finished on 53000/453024 queries. users per second: 1659.28"
       ]
      },
      {
       "html": [
        "<pre>PROGRESS: recommendations finished on 54000/453024 queries. users per second: 1666.6</pre>"
       ],
       "metadata": {},
       "output_type": "display_data",
       "text": [
        "PROGRESS: recommendations finished on 54000/453024 queries. users per second: 1666.6"
       ]
      },
      {
       "html": [
        "<pre>PROGRESS: recommendations finished on 55000/453024 queries. users per second: 1673.27</pre>"
       ],
       "metadata": {},
       "output_type": "display_data",
       "text": [
        "PROGRESS: recommendations finished on 55000/453024 queries. users per second: 1673.27"
       ]
      },
      {
       "html": [
        "<pre>PROGRESS: recommendations finished on 56000/453024 queries. users per second: 1680.26</pre>"
       ],
       "metadata": {},
       "output_type": "display_data",
       "text": [
        "PROGRESS: recommendations finished on 56000/453024 queries. users per second: 1680.26"
       ]
      },
      {
       "html": [
        "<pre>PROGRESS: recommendations finished on 57000/453024 queries. users per second: 1686.74</pre>"
       ],
       "metadata": {},
       "output_type": "display_data",
       "text": [
        "PROGRESS: recommendations finished on 57000/453024 queries. users per second: 1686.74"
       ]
      },
      {
       "html": [
        "<pre>PROGRESS: recommendations finished on 58000/453024 queries. users per second: 1693.32</pre>"
       ],
       "metadata": {},
       "output_type": "display_data",
       "text": [
        "PROGRESS: recommendations finished on 58000/453024 queries. users per second: 1693.32"
       ]
      },
      {
       "html": [
        "<pre>PROGRESS: recommendations finished on 59000/453024 queries. users per second: 1699.7</pre>"
       ],
       "metadata": {},
       "output_type": "display_data",
       "text": [
        "PROGRESS: recommendations finished on 59000/453024 queries. users per second: 1699.7"
       ]
      },
      {
       "html": [
        "<pre>PROGRESS: recommendations finished on 60000/453024 queries. users per second: 1705.89</pre>"
       ],
       "metadata": {},
       "output_type": "display_data",
       "text": [
        "PROGRESS: recommendations finished on 60000/453024 queries. users per second: 1705.89"
       ]
      },
      {
       "html": [
        "<pre>PROGRESS: recommendations finished on 61000/453024 queries. users per second: 1711.97</pre>"
       ],
       "metadata": {},
       "output_type": "display_data",
       "text": [
        "PROGRESS: recommendations finished on 61000/453024 queries. users per second: 1711.97"
       ]
      },
      {
       "html": [
        "<pre>PROGRESS: recommendations finished on 62000/453024 queries. users per second: 1717.51</pre>"
       ],
       "metadata": {},
       "output_type": "display_data",
       "text": [
        "PROGRESS: recommendations finished on 62000/453024 queries. users per second: 1717.51"
       ]
      },
      {
       "html": [
        "<pre>PROGRESS: recommendations finished on 63000/453024 queries. users per second: 1722.21</pre>"
       ],
       "metadata": {},
       "output_type": "display_data",
       "text": [
        "PROGRESS: recommendations finished on 63000/453024 queries. users per second: 1722.21"
       ]
      },
      {
       "html": [
        "<pre>PROGRESS: recommendations finished on 64000/453024 queries. users per second: 1727.53</pre>"
       ],
       "metadata": {},
       "output_type": "display_data",
       "text": [
        "PROGRESS: recommendations finished on 64000/453024 queries. users per second: 1727.53"
       ]
      },
      {
       "html": [
        "<pre>PROGRESS: recommendations finished on 65000/453024 queries. users per second: 1733.05</pre>"
       ],
       "metadata": {},
       "output_type": "display_data",
       "text": [
        "PROGRESS: recommendations finished on 65000/453024 queries. users per second: 1733.05"
       ]
      },
      {
       "html": [
        "<pre>PROGRESS: recommendations finished on 66000/453024 queries. users per second: 1736.81</pre>"
       ],
       "metadata": {},
       "output_type": "display_data",
       "text": [
        "PROGRESS: recommendations finished on 66000/453024 queries. users per second: 1736.81"
       ]
      },
      {
       "html": [
        "<pre>PROGRESS: recommendations finished on 67000/453024 queries. users per second: 1741.83</pre>"
       ],
       "metadata": {},
       "output_type": "display_data",
       "text": [
        "PROGRESS: recommendations finished on 67000/453024 queries. users per second: 1741.83"
       ]
      },
      {
       "html": [
        "<pre>PROGRESS: recommendations finished on 68000/453024 queries. users per second: 1745.36</pre>"
       ],
       "metadata": {},
       "output_type": "display_data",
       "text": [
        "PROGRESS: recommendations finished on 68000/453024 queries. users per second: 1745.36"
       ]
      },
      {
       "html": [
        "<pre>PROGRESS: recommendations finished on 69000/453024 queries. users per second: 1749.51</pre>"
       ],
       "metadata": {},
       "output_type": "display_data",
       "text": [
        "PROGRESS: recommendations finished on 69000/453024 queries. users per second: 1749.51"
       ]
      },
      {
       "html": [
        "<pre>PROGRESS: recommendations finished on 70000/453024 queries. users per second: 1753.76</pre>"
       ],
       "metadata": {},
       "output_type": "display_data",
       "text": [
        "PROGRESS: recommendations finished on 70000/453024 queries. users per second: 1753.76"
       ]
      },
      {
       "html": [
        "<pre>PROGRESS: recommendations finished on 71000/453024 queries. users per second: 1758.03</pre>"
       ],
       "metadata": {},
       "output_type": "display_data",
       "text": [
        "PROGRESS: recommendations finished on 71000/453024 queries. users per second: 1758.03"
       ]
      },
      {
       "html": [
        "<pre>PROGRESS: recommendations finished on 72000/453024 queries. users per second: 1762.29</pre>"
       ],
       "metadata": {},
       "output_type": "display_data",
       "text": [
        "PROGRESS: recommendations finished on 72000/453024 queries. users per second: 1762.29"
       ]
      },
      {
       "html": [
        "<pre>PROGRESS: recommendations finished on 73000/453024 queries. users per second: 1766.93</pre>"
       ],
       "metadata": {},
       "output_type": "display_data",
       "text": [
        "PROGRESS: recommendations finished on 73000/453024 queries. users per second: 1766.93"
       ]
      },
      {
       "html": [
        "<pre>PROGRESS: recommendations finished on 74000/453024 queries. users per second: 1771.55</pre>"
       ],
       "metadata": {},
       "output_type": "display_data",
       "text": [
        "PROGRESS: recommendations finished on 74000/453024 queries. users per second: 1771.55"
       ]
      },
      {
       "html": [
        "<pre>PROGRESS: recommendations finished on 75000/453024 queries. users per second: 1775.6</pre>"
       ],
       "metadata": {},
       "output_type": "display_data",
       "text": [
        "PROGRESS: recommendations finished on 75000/453024 queries. users per second: 1775.6"
       ]
      },
      {
       "html": [
        "<pre>PROGRESS: recommendations finished on 76000/453024 queries. users per second: 1779.27</pre>"
       ],
       "metadata": {},
       "output_type": "display_data",
       "text": [
        "PROGRESS: recommendations finished on 76000/453024 queries. users per second: 1779.27"
       ]
      },
      {
       "html": [
        "<pre>PROGRESS: recommendations finished on 77000/453024 queries. users per second: 1783.45</pre>"
       ],
       "metadata": {},
       "output_type": "display_data",
       "text": [
        "PROGRESS: recommendations finished on 77000/453024 queries. users per second: 1783.45"
       ]
      },
      {
       "html": [
        "<pre>PROGRESS: recommendations finished on 78000/453024 queries. users per second: 1787.38</pre>"
       ],
       "metadata": {},
       "output_type": "display_data",
       "text": [
        "PROGRESS: recommendations finished on 78000/453024 queries. users per second: 1787.38"
       ]
      },
      {
       "html": [
        "<pre>PROGRESS: recommendations finished on 79000/453024 queries. users per second: 1791.39</pre>"
       ],
       "metadata": {},
       "output_type": "display_data",
       "text": [
        "PROGRESS: recommendations finished on 79000/453024 queries. users per second: 1791.39"
       ]
      },
      {
       "html": [
        "<pre>PROGRESS: recommendations finished on 80000/453024 queries. users per second: 1795.04</pre>"
       ],
       "metadata": {},
       "output_type": "display_data",
       "text": [
        "PROGRESS: recommendations finished on 80000/453024 queries. users per second: 1795.04"
       ]
      },
      {
       "html": [
        "<pre>PROGRESS: recommendations finished on 81000/453024 queries. users per second: 1798.97</pre>"
       ],
       "metadata": {},
       "output_type": "display_data",
       "text": [
        "PROGRESS: recommendations finished on 81000/453024 queries. users per second: 1798.97"
       ]
      },
      {
       "html": [
        "<pre>PROGRESS: recommendations finished on 82000/453024 queries. users per second: 1802.51</pre>"
       ],
       "metadata": {},
       "output_type": "display_data",
       "text": [
        "PROGRESS: recommendations finished on 82000/453024 queries. users per second: 1802.51"
       ]
      },
      {
       "html": [
        "<pre>PROGRESS: recommendations finished on 83000/453024 queries. users per second: 1805.94</pre>"
       ],
       "metadata": {},
       "output_type": "display_data",
       "text": [
        "PROGRESS: recommendations finished on 83000/453024 queries. users per second: 1805.94"
       ]
      },
      {
       "html": [
        "<pre>PROGRESS: recommendations finished on 84000/453024 queries. users per second: 1809.59</pre>"
       ],
       "metadata": {},
       "output_type": "display_data",
       "text": [
        "PROGRESS: recommendations finished on 84000/453024 queries. users per second: 1809.59"
       ]
      },
      {
       "html": [
        "<pre>PROGRESS: recommendations finished on 85000/453024 queries. users per second: 1812.49</pre>"
       ],
       "metadata": {},
       "output_type": "display_data",
       "text": [
        "PROGRESS: recommendations finished on 85000/453024 queries. users per second: 1812.49"
       ]
      },
      {
       "html": [
        "<pre>PROGRESS: recommendations finished on 86000/453024 queries. users per second: 1816.16</pre>"
       ],
       "metadata": {},
       "output_type": "display_data",
       "text": [
        "PROGRESS: recommendations finished on 86000/453024 queries. users per second: 1816.16"
       ]
      },
      {
       "html": [
        "<pre>PROGRESS: recommendations finished on 87000/453024 queries. users per second: 1819.27</pre>"
       ],
       "metadata": {},
       "output_type": "display_data",
       "text": [
        "PROGRESS: recommendations finished on 87000/453024 queries. users per second: 1819.27"
       ]
      },
      {
       "html": [
        "<pre>PROGRESS: recommendations finished on 88000/453024 queries. users per second: 1822.43</pre>"
       ],
       "metadata": {},
       "output_type": "display_data",
       "text": [
        "PROGRESS: recommendations finished on 88000/453024 queries. users per second: 1822.43"
       ]
      },
      {
       "html": [
        "<pre>PROGRESS: recommendations finished on 89000/453024 queries. users per second: 1825.44</pre>"
       ],
       "metadata": {},
       "output_type": "display_data",
       "text": [
        "PROGRESS: recommendations finished on 89000/453024 queries. users per second: 1825.44"
       ]
      },
      {
       "html": [
        "<pre>PROGRESS: recommendations finished on 90000/453024 queries. users per second: 1828.42</pre>"
       ],
       "metadata": {},
       "output_type": "display_data",
       "text": [
        "PROGRESS: recommendations finished on 90000/453024 queries. users per second: 1828.42"
       ]
      },
      {
       "html": [
        "<pre>PROGRESS: recommendations finished on 91000/453024 queries. users per second: 1831.27</pre>"
       ],
       "metadata": {},
       "output_type": "display_data",
       "text": [
        "PROGRESS: recommendations finished on 91000/453024 queries. users per second: 1831.27"
       ]
      },
      {
       "html": [
        "<pre>PROGRESS: recommendations finished on 92000/453024 queries. users per second: 1834.26</pre>"
       ],
       "metadata": {},
       "output_type": "display_data",
       "text": [
        "PROGRESS: recommendations finished on 92000/453024 queries. users per second: 1834.26"
       ]
      },
      {
       "html": [
        "<pre>PROGRESS: recommendations finished on 93000/453024 queries. users per second: 1836.54</pre>"
       ],
       "metadata": {},
       "output_type": "display_data",
       "text": [
        "PROGRESS: recommendations finished on 93000/453024 queries. users per second: 1836.54"
       ]
      },
      {
       "html": [
        "<pre>PROGRESS: recommendations finished on 94000/453024 queries. users per second: 1839.68</pre>"
       ],
       "metadata": {},
       "output_type": "display_data",
       "text": [
        "PROGRESS: recommendations finished on 94000/453024 queries. users per second: 1839.68"
       ]
      },
      {
       "html": [
        "<pre>PROGRESS: recommendations finished on 95000/453024 queries. users per second: 1842.55</pre>"
       ],
       "metadata": {},
       "output_type": "display_data",
       "text": [
        "PROGRESS: recommendations finished on 95000/453024 queries. users per second: 1842.55"
       ]
      },
      {
       "html": [
        "<pre>PROGRESS: recommendations finished on 96000/453024 queries. users per second: 1845.28</pre>"
       ],
       "metadata": {},
       "output_type": "display_data",
       "text": [
        "PROGRESS: recommendations finished on 96000/453024 queries. users per second: 1845.28"
       ]
      },
      {
       "html": [
        "<pre>PROGRESS: recommendations finished on 97000/453024 queries. users per second: 1847.93</pre>"
       ],
       "metadata": {},
       "output_type": "display_data",
       "text": [
        "PROGRESS: recommendations finished on 97000/453024 queries. users per second: 1847.93"
       ]
      },
      {
       "html": [
        "<pre>PROGRESS: recommendations finished on 98000/453024 queries. users per second: 1850.24</pre>"
       ],
       "metadata": {},
       "output_type": "display_data",
       "text": [
        "PROGRESS: recommendations finished on 98000/453024 queries. users per second: 1850.24"
       ]
      },
      {
       "html": [
        "<pre>PROGRESS: recommendations finished on 99000/453024 queries. users per second: 1853.06</pre>"
       ],
       "metadata": {},
       "output_type": "display_data",
       "text": [
        "PROGRESS: recommendations finished on 99000/453024 queries. users per second: 1853.06"
       ]
      },
      {
       "html": [
        "<pre>PROGRESS: recommendations finished on 100000/453024 queries. users per second: 1855.44</pre>"
       ],
       "metadata": {},
       "output_type": "display_data",
       "text": [
        "PROGRESS: recommendations finished on 100000/453024 queries. users per second: 1855.44"
       ]
      },
      {
       "html": [
        "<pre>PROGRESS: recommendations finished on 101000/453024 queries. users per second: 1857.95</pre>"
       ],
       "metadata": {},
       "output_type": "display_data",
       "text": [
        "PROGRESS: recommendations finished on 101000/453024 queries. users per second: 1857.95"
       ]
      },
      {
       "html": [
        "<pre>PROGRESS: recommendations finished on 102000/453024 queries. users per second: 1860.37</pre>"
       ],
       "metadata": {},
       "output_type": "display_data",
       "text": [
        "PROGRESS: recommendations finished on 102000/453024 queries. users per second: 1860.37"
       ]
      },
      {
       "html": [
        "<pre>PROGRESS: recommendations finished on 103000/453024 queries. users per second: 1862.21</pre>"
       ],
       "metadata": {},
       "output_type": "display_data",
       "text": [
        "PROGRESS: recommendations finished on 103000/453024 queries. users per second: 1862.21"
       ]
      },
      {
       "html": [
        "<pre>PROGRESS: recommendations finished on 104000/453024 queries. users per second: 1864.46</pre>"
       ],
       "metadata": {},
       "output_type": "display_data",
       "text": [
        "PROGRESS: recommendations finished on 104000/453024 queries. users per second: 1864.46"
       ]
      },
      {
       "html": [
        "<pre>PROGRESS: recommendations finished on 105000/453024 queries. users per second: 1866.56</pre>"
       ],
       "metadata": {},
       "output_type": "display_data",
       "text": [
        "PROGRESS: recommendations finished on 105000/453024 queries. users per second: 1866.56"
       ]
      },
      {
       "html": [
        "<pre>PROGRESS: recommendations finished on 106000/453024 queries. users per second: 1868.83</pre>"
       ],
       "metadata": {},
       "output_type": "display_data",
       "text": [
        "PROGRESS: recommendations finished on 106000/453024 queries. users per second: 1868.83"
       ]
      },
      {
       "html": [
        "<pre>PROGRESS: recommendations finished on 107000/453024 queries. users per second: 1870.86</pre>"
       ],
       "metadata": {},
       "output_type": "display_data",
       "text": [
        "PROGRESS: recommendations finished on 107000/453024 queries. users per second: 1870.86"
       ]
      },
      {
       "html": [
        "<pre>PROGRESS: recommendations finished on 108000/453024 queries. users per second: 1872.92</pre>"
       ],
       "metadata": {},
       "output_type": "display_data",
       "text": [
        "PROGRESS: recommendations finished on 108000/453024 queries. users per second: 1872.92"
       ]
      },
      {
       "html": [
        "<pre>PROGRESS: recommendations finished on 109000/453024 queries. users per second: 1874.98</pre>"
       ],
       "metadata": {},
       "output_type": "display_data",
       "text": [
        "PROGRESS: recommendations finished on 109000/453024 queries. users per second: 1874.98"
       ]
      },
      {
       "html": [
        "<pre>PROGRESS: recommendations finished on 110000/453024 queries. users per second: 1877</pre>"
       ],
       "metadata": {},
       "output_type": "display_data",
       "text": [
        "PROGRESS: recommendations finished on 110000/453024 queries. users per second: 1877"
       ]
      },
      {
       "html": [
        "<pre>PROGRESS: recommendations finished on 111000/453024 queries. users per second: 1878.69</pre>"
       ],
       "metadata": {},
       "output_type": "display_data",
       "text": [
        "PROGRESS: recommendations finished on 111000/453024 queries. users per second: 1878.69"
       ]
      },
      {
       "html": [
        "<pre>PROGRESS: recommendations finished on 112000/453024 queries. users per second: 1880.53</pre>"
       ],
       "metadata": {},
       "output_type": "display_data",
       "text": [
        "PROGRESS: recommendations finished on 112000/453024 queries. users per second: 1880.53"
       ]
      },
      {
       "html": [
        "<pre>PROGRESS: recommendations finished on 113000/453024 queries. users per second: 1882.64</pre>"
       ],
       "metadata": {},
       "output_type": "display_data",
       "text": [
        "PROGRESS: recommendations finished on 113000/453024 queries. users per second: 1882.64"
       ]
      },
      {
       "html": [
        "<pre>PROGRESS: recommendations finished on 114000/453024 queries. users per second: 1884.69</pre>"
       ],
       "metadata": {},
       "output_type": "display_data",
       "text": [
        "PROGRESS: recommendations finished on 114000/453024 queries. users per second: 1884.69"
       ]
      },
      {
       "html": [
        "<pre>PROGRESS: recommendations finished on 115000/453024 queries. users per second: 1886.62</pre>"
       ],
       "metadata": {},
       "output_type": "display_data",
       "text": [
        "PROGRESS: recommendations finished on 115000/453024 queries. users per second: 1886.62"
       ]
      },
      {
       "html": [
        "<pre>PROGRESS: recommendations finished on 116000/453024 queries. users per second: 1887.9</pre>"
       ],
       "metadata": {},
       "output_type": "display_data",
       "text": [
        "PROGRESS: recommendations finished on 116000/453024 queries. users per second: 1887.9"
       ]
      },
      {
       "html": [
        "<pre>PROGRESS: recommendations finished on 117000/453024 queries. users per second: 1889.4</pre>"
       ],
       "metadata": {},
       "output_type": "display_data",
       "text": [
        "PROGRESS: recommendations finished on 117000/453024 queries. users per second: 1889.4"
       ]
      },
      {
       "html": [
        "<pre>PROGRESS: recommendations finished on 118000/453024 queries. users per second: 1891.2</pre>"
       ],
       "metadata": {},
       "output_type": "display_data",
       "text": [
        "PROGRESS: recommendations finished on 118000/453024 queries. users per second: 1891.2"
       ]
      },
      {
       "html": [
        "<pre>PROGRESS: recommendations finished on 119000/453024 queries. users per second: 1892.92</pre>"
       ],
       "metadata": {},
       "output_type": "display_data",
       "text": [
        "PROGRESS: recommendations finished on 119000/453024 queries. users per second: 1892.92"
       ]
      },
      {
       "html": [
        "<pre>PROGRESS: recommendations finished on 120000/453024 queries. users per second: 1893.99</pre>"
       ],
       "metadata": {},
       "output_type": "display_data",
       "text": [
        "PROGRESS: recommendations finished on 120000/453024 queries. users per second: 1893.99"
       ]
      },
      {
       "html": [
        "<pre>PROGRESS: recommendations finished on 121000/453024 queries. users per second: 1894.86</pre>"
       ],
       "metadata": {},
       "output_type": "display_data",
       "text": [
        "PROGRESS: recommendations finished on 121000/453024 queries. users per second: 1894.86"
       ]
      },
      {
       "html": [
        "<pre>PROGRESS: recommendations finished on 122000/453024 queries. users per second: 1896.67</pre>"
       ],
       "metadata": {},
       "output_type": "display_data",
       "text": [
        "PROGRESS: recommendations finished on 122000/453024 queries. users per second: 1896.67"
       ]
      },
      {
       "html": [
        "<pre>PROGRESS: recommendations finished on 123000/453024 queries. users per second: 1898.32</pre>"
       ],
       "metadata": {},
       "output_type": "display_data",
       "text": [
        "PROGRESS: recommendations finished on 123000/453024 queries. users per second: 1898.32"
       ]
      },
      {
       "html": [
        "<pre>PROGRESS: recommendations finished on 124000/453024 queries. users per second: 1900.07</pre>"
       ],
       "metadata": {},
       "output_type": "display_data",
       "text": [
        "PROGRESS: recommendations finished on 124000/453024 queries. users per second: 1900.07"
       ]
      },
      {
       "html": [
        "<pre>PROGRESS: recommendations finished on 125000/453024 queries. users per second: 1901.32</pre>"
       ],
       "metadata": {},
       "output_type": "display_data",
       "text": [
        "PROGRESS: recommendations finished on 125000/453024 queries. users per second: 1901.32"
       ]
      },
      {
       "html": [
        "<pre>PROGRESS: recommendations finished on 126000/453024 queries. users per second: 1903.09</pre>"
       ],
       "metadata": {},
       "output_type": "display_data",
       "text": [
        "PROGRESS: recommendations finished on 126000/453024 queries. users per second: 1903.09"
       ]
      },
      {
       "html": [
        "<pre>PROGRESS: recommendations finished on 127000/453024 queries. users per second: 1904.73</pre>"
       ],
       "metadata": {},
       "output_type": "display_data",
       "text": [
        "PROGRESS: recommendations finished on 127000/453024 queries. users per second: 1904.73"
       ]
      },
      {
       "html": [
        "<pre>PROGRESS: recommendations finished on 128000/453024 queries. users per second: 1906.63</pre>"
       ],
       "metadata": {},
       "output_type": "display_data",
       "text": [
        "PROGRESS: recommendations finished on 128000/453024 queries. users per second: 1906.63"
       ]
      },
      {
       "html": [
        "<pre>PROGRESS: recommendations finished on 129000/453024 queries. users per second: 1907.52</pre>"
       ],
       "metadata": {},
       "output_type": "display_data",
       "text": [
        "PROGRESS: recommendations finished on 129000/453024 queries. users per second: 1907.52"
       ]
      },
      {
       "html": [
        "<pre>PROGRESS: recommendations finished on 130000/453024 queries. users per second: 1909.05</pre>"
       ],
       "metadata": {},
       "output_type": "display_data",
       "text": [
        "PROGRESS: recommendations finished on 130000/453024 queries. users per second: 1909.05"
       ]
      },
      {
       "html": [
        "<pre>PROGRESS: recommendations finished on 131000/453024 queries. users per second: 1910.44</pre>"
       ],
       "metadata": {},
       "output_type": "display_data",
       "text": [
        "PROGRESS: recommendations finished on 131000/453024 queries. users per second: 1910.44"
       ]
      },
      {
       "html": [
        "<pre>PROGRESS: recommendations finished on 132000/453024 queries. users per second: 1911.76</pre>"
       ],
       "metadata": {},
       "output_type": "display_data",
       "text": [
        "PROGRESS: recommendations finished on 132000/453024 queries. users per second: 1911.76"
       ]
      },
      {
       "html": [
        "<pre>PROGRESS: recommendations finished on 133000/453024 queries. users per second: 1912.98</pre>"
       ],
       "metadata": {},
       "output_type": "display_data",
       "text": [
        "PROGRESS: recommendations finished on 133000/453024 queries. users per second: 1912.98"
       ]
      },
      {
       "html": [
        "<pre>PROGRESS: recommendations finished on 134000/453024 queries. users per second: 1914.34</pre>"
       ],
       "metadata": {},
       "output_type": "display_data",
       "text": [
        "PROGRESS: recommendations finished on 134000/453024 queries. users per second: 1914.34"
       ]
      },
      {
       "html": [
        "<pre>PROGRESS: recommendations finished on 135000/453024 queries. users per second: 1915.92</pre>"
       ],
       "metadata": {},
       "output_type": "display_data",
       "text": [
        "PROGRESS: recommendations finished on 135000/453024 queries. users per second: 1915.92"
       ]
      },
      {
       "html": [
        "<pre>PROGRESS: recommendations finished on 136000/453024 queries. users per second: 1917.25</pre>"
       ],
       "metadata": {},
       "output_type": "display_data",
       "text": [
        "PROGRESS: recommendations finished on 136000/453024 queries. users per second: 1917.25"
       ]
      },
      {
       "html": [
        "<pre>PROGRESS: recommendations finished on 137000/453024 queries. users per second: 1918.4</pre>"
       ],
       "metadata": {},
       "output_type": "display_data",
       "text": [
        "PROGRESS: recommendations finished on 137000/453024 queries. users per second: 1918.4"
       ]
      },
      {
       "html": [
        "<pre>PROGRESS: recommendations finished on 138000/453024 queries. users per second: 1919.47</pre>"
       ],
       "metadata": {},
       "output_type": "display_data",
       "text": [
        "PROGRESS: recommendations finished on 138000/453024 queries. users per second: 1919.47"
       ]
      },
      {
       "html": [
        "<pre>PROGRESS: recommendations finished on 139000/453024 queries. users per second: 1920.47</pre>"
       ],
       "metadata": {},
       "output_type": "display_data",
       "text": [
        "PROGRESS: recommendations finished on 139000/453024 queries. users per second: 1920.47"
       ]
      },
      {
       "html": [
        "<pre>PROGRESS: recommendations finished on 140000/453024 queries. users per second: 1921.95</pre>"
       ],
       "metadata": {},
       "output_type": "display_data",
       "text": [
        "PROGRESS: recommendations finished on 140000/453024 queries. users per second: 1921.95"
       ]
      },
      {
       "html": [
        "<pre>PROGRESS: recommendations finished on 141000/453024 queries. users per second: 1923.04</pre>"
       ],
       "metadata": {},
       "output_type": "display_data",
       "text": [
        "PROGRESS: recommendations finished on 141000/453024 queries. users per second: 1923.04"
       ]
      },
      {
       "html": [
        "<pre>PROGRESS: recommendations finished on 142000/453024 queries. users per second: 1924.04</pre>"
       ],
       "metadata": {},
       "output_type": "display_data",
       "text": [
        "PROGRESS: recommendations finished on 142000/453024 queries. users per second: 1924.04"
       ]
      },
      {
       "html": [
        "<pre>PROGRESS: recommendations finished on 143000/453024 queries. users per second: 1925.13</pre>"
       ],
       "metadata": {},
       "output_type": "display_data",
       "text": [
        "PROGRESS: recommendations finished on 143000/453024 queries. users per second: 1925.13"
       ]
      },
      {
       "html": [
        "<pre>PROGRESS: recommendations finished on 144000/453024 queries. users per second: 1926.65</pre>"
       ],
       "metadata": {},
       "output_type": "display_data",
       "text": [
        "PROGRESS: recommendations finished on 144000/453024 queries. users per second: 1926.65"
       ]
      },
      {
       "html": [
        "<pre>PROGRESS: recommendations finished on 145000/453024 queries. users per second: 1928</pre>"
       ],
       "metadata": {},
       "output_type": "display_data",
       "text": [
        "PROGRESS: recommendations finished on 145000/453024 queries. users per second: 1928"
       ]
      },
      {
       "html": [
        "<pre>PROGRESS: recommendations finished on 146000/453024 queries. users per second: 1929.28</pre>"
       ],
       "metadata": {},
       "output_type": "display_data",
       "text": [
        "PROGRESS: recommendations finished on 146000/453024 queries. users per second: 1929.28"
       ]
      },
      {
       "html": [
        "<pre>PROGRESS: recommendations finished on 147000/453024 queries. users per second: 1930.68</pre>"
       ],
       "metadata": {},
       "output_type": "display_data",
       "text": [
        "PROGRESS: recommendations finished on 147000/453024 queries. users per second: 1930.68"
       ]
      },
      {
       "html": [
        "<pre>PROGRESS: recommendations finished on 148000/453024 queries. users per second: 1931.72</pre>"
       ],
       "metadata": {},
       "output_type": "display_data",
       "text": [
        "PROGRESS: recommendations finished on 148000/453024 queries. users per second: 1931.72"
       ]
      },
      {
       "html": [
        "<pre>PROGRESS: recommendations finished on 149000/453024 queries. users per second: 1933.05</pre>"
       ],
       "metadata": {},
       "output_type": "display_data",
       "text": [
        "PROGRESS: recommendations finished on 149000/453024 queries. users per second: 1933.05"
       ]
      },
      {
       "html": [
        "<pre>PROGRESS: recommendations finished on 150000/453024 queries. users per second: 1934.4</pre>"
       ],
       "metadata": {},
       "output_type": "display_data",
       "text": [
        "PROGRESS: recommendations finished on 150000/453024 queries. users per second: 1934.4"
       ]
      },
      {
       "html": [
        "<pre>PROGRESS: recommendations finished on 151000/453024 queries. users per second: 1935.78</pre>"
       ],
       "metadata": {},
       "output_type": "display_data",
       "text": [
        "PROGRESS: recommendations finished on 151000/453024 queries. users per second: 1935.78"
       ]
      },
      {
       "html": [
        "<pre>PROGRESS: recommendations finished on 152000/453024 queries. users per second: 1936.94</pre>"
       ],
       "metadata": {},
       "output_type": "display_data",
       "text": [
        "PROGRESS: recommendations finished on 152000/453024 queries. users per second: 1936.94"
       ]
      },
      {
       "html": [
        "<pre>PROGRESS: recommendations finished on 153000/453024 queries. users per second: 1938.08</pre>"
       ],
       "metadata": {},
       "output_type": "display_data",
       "text": [
        "PROGRESS: recommendations finished on 153000/453024 queries. users per second: 1938.08"
       ]
      },
      {
       "html": [
        "<pre>PROGRESS: recommendations finished on 154000/453024 queries. users per second: 1939.18</pre>"
       ],
       "metadata": {},
       "output_type": "display_data",
       "text": [
        "PROGRESS: recommendations finished on 154000/453024 queries. users per second: 1939.18"
       ]
      },
      {
       "html": [
        "<pre>PROGRESS: recommendations finished on 155000/453024 queries. users per second: 1940.42</pre>"
       ],
       "metadata": {},
       "output_type": "display_data",
       "text": [
        "PROGRESS: recommendations finished on 155000/453024 queries. users per second: 1940.42"
       ]
      },
      {
       "html": [
        "<pre>PROGRESS: recommendations finished on 156000/453024 queries. users per second: 1940.99</pre>"
       ],
       "metadata": {},
       "output_type": "display_data",
       "text": [
        "PROGRESS: recommendations finished on 156000/453024 queries. users per second: 1940.99"
       ]
      },
      {
       "html": [
        "<pre>PROGRESS: recommendations finished on 157000/453024 queries. users per second: 1942.03</pre>"
       ],
       "metadata": {},
       "output_type": "display_data",
       "text": [
        "PROGRESS: recommendations finished on 157000/453024 queries. users per second: 1942.03"
       ]
      },
      {
       "html": [
        "<pre>PROGRESS: recommendations finished on 158000/453024 queries. users per second: 1942.9</pre>"
       ],
       "metadata": {},
       "output_type": "display_data",
       "text": [
        "PROGRESS: recommendations finished on 158000/453024 queries. users per second: 1942.9"
       ]
      },
      {
       "html": [
        "<pre>PROGRESS: recommendations finished on 159000/453024 queries. users per second: 1944.14</pre>"
       ],
       "metadata": {},
       "output_type": "display_data",
       "text": [
        "PROGRESS: recommendations finished on 159000/453024 queries. users per second: 1944.14"
       ]
      },
      {
       "html": [
        "<pre>PROGRESS: recommendations finished on 160000/453024 queries. users per second: 1944.94</pre>"
       ],
       "metadata": {},
       "output_type": "display_data",
       "text": [
        "PROGRESS: recommendations finished on 160000/453024 queries. users per second: 1944.94"
       ]
      },
      {
       "html": [
        "<pre>PROGRESS: recommendations finished on 161000/453024 queries. users per second: 1945.96</pre>"
       ],
       "metadata": {},
       "output_type": "display_data",
       "text": [
        "PROGRESS: recommendations finished on 161000/453024 queries. users per second: 1945.96"
       ]
      },
      {
       "html": [
        "<pre>PROGRESS: recommendations finished on 162000/453024 queries. users per second: 1947.15</pre>"
       ],
       "metadata": {},
       "output_type": "display_data",
       "text": [
        "PROGRESS: recommendations finished on 162000/453024 queries. users per second: 1947.15"
       ]
      },
      {
       "html": [
        "<pre>PROGRESS: recommendations finished on 163000/453024 queries. users per second: 1948.1</pre>"
       ],
       "metadata": {},
       "output_type": "display_data",
       "text": [
        "PROGRESS: recommendations finished on 163000/453024 queries. users per second: 1948.1"
       ]
      },
      {
       "html": [
        "<pre>PROGRESS: recommendations finished on 164000/453024 queries. users per second: 1949.19</pre>"
       ],
       "metadata": {},
       "output_type": "display_data",
       "text": [
        "PROGRESS: recommendations finished on 164000/453024 queries. users per second: 1949.19"
       ]
      },
      {
       "html": [
        "<pre>PROGRESS: recommendations finished on 165000/453024 queries. users per second: 1950.35</pre>"
       ],
       "metadata": {},
       "output_type": "display_data",
       "text": [
        "PROGRESS: recommendations finished on 165000/453024 queries. users per second: 1950.35"
       ]
      },
      {
       "html": [
        "<pre>PROGRESS: recommendations finished on 166000/453024 queries. users per second: 1951.18</pre>"
       ],
       "metadata": {},
       "output_type": "display_data",
       "text": [
        "PROGRESS: recommendations finished on 166000/453024 queries. users per second: 1951.18"
       ]
      },
      {
       "html": [
        "<pre>PROGRESS: recommendations finished on 167000/453024 queries. users per second: 1951.98</pre>"
       ],
       "metadata": {},
       "output_type": "display_data",
       "text": [
        "PROGRESS: recommendations finished on 167000/453024 queries. users per second: 1951.98"
       ]
      },
      {
       "html": [
        "<pre>PROGRESS: recommendations finished on 168000/453024 queries. users per second: 1952.87</pre>"
       ],
       "metadata": {},
       "output_type": "display_data",
       "text": [
        "PROGRESS: recommendations finished on 168000/453024 queries. users per second: 1952.87"
       ]
      },
      {
       "html": [
        "<pre>PROGRESS: recommendations finished on 169000/453024 queries. users per second: 1953.92</pre>"
       ],
       "metadata": {},
       "output_type": "display_data",
       "text": [
        "PROGRESS: recommendations finished on 169000/453024 queries. users per second: 1953.92"
       ]
      },
      {
       "html": [
        "<pre>PROGRESS: recommendations finished on 170000/453024 queries. users per second: 1954.72</pre>"
       ],
       "metadata": {},
       "output_type": "display_data",
       "text": [
        "PROGRESS: recommendations finished on 170000/453024 queries. users per second: 1954.72"
       ]
      },
      {
       "html": [
        "<pre>PROGRESS: recommendations finished on 171000/453024 queries. users per second: 1955.79</pre>"
       ],
       "metadata": {},
       "output_type": "display_data",
       "text": [
        "PROGRESS: recommendations finished on 171000/453024 queries. users per second: 1955.79"
       ]
      },
      {
       "html": [
        "<pre>PROGRESS: recommendations finished on 172000/453024 queries. users per second: 1956.74</pre>"
       ],
       "metadata": {},
       "output_type": "display_data",
       "text": [
        "PROGRESS: recommendations finished on 172000/453024 queries. users per second: 1956.74"
       ]
      },
      {
       "html": [
        "<pre>PROGRESS: recommendations finished on 173000/453024 queries. users per second: 1957.67</pre>"
       ],
       "metadata": {},
       "output_type": "display_data",
       "text": [
        "PROGRESS: recommendations finished on 173000/453024 queries. users per second: 1957.67"
       ]
      },
      {
       "html": [
        "<pre>PROGRESS: recommendations finished on 174000/453024 queries. users per second: 1958.79</pre>"
       ],
       "metadata": {},
       "output_type": "display_data",
       "text": [
        "PROGRESS: recommendations finished on 174000/453024 queries. users per second: 1958.79"
       ]
      },
      {
       "html": [
        "<pre>PROGRESS: recommendations finished on 175000/453024 queries. users per second: 1959.61</pre>"
       ],
       "metadata": {},
       "output_type": "display_data",
       "text": [
        "PROGRESS: recommendations finished on 175000/453024 queries. users per second: 1959.61"
       ]
      },
      {
       "html": [
        "<pre>PROGRESS: recommendations finished on 176000/453024 queries. users per second: 1960.64</pre>"
       ],
       "metadata": {},
       "output_type": "display_data",
       "text": [
        "PROGRESS: recommendations finished on 176000/453024 queries. users per second: 1960.64"
       ]
      },
      {
       "html": [
        "<pre>PROGRESS: recommendations finished on 177000/453024 queries. users per second: 1961.2</pre>"
       ],
       "metadata": {},
       "output_type": "display_data",
       "text": [
        "PROGRESS: recommendations finished on 177000/453024 queries. users per second: 1961.2"
       ]
      },
      {
       "html": [
        "<pre>PROGRESS: recommendations finished on 178000/453024 queries. users per second: 1961.44</pre>"
       ],
       "metadata": {},
       "output_type": "display_data",
       "text": [
        "PROGRESS: recommendations finished on 178000/453024 queries. users per second: 1961.44"
       ]
      },
      {
       "html": [
        "<pre>PROGRESS: recommendations finished on 179000/453024 queries. users per second: 1962.47</pre>"
       ],
       "metadata": {},
       "output_type": "display_data",
       "text": [
        "PROGRESS: recommendations finished on 179000/453024 queries. users per second: 1962.47"
       ]
      },
      {
       "html": [
        "<pre>PROGRESS: recommendations finished on 180000/453024 queries. users per second: 1963.37</pre>"
       ],
       "metadata": {},
       "output_type": "display_data",
       "text": [
        "PROGRESS: recommendations finished on 180000/453024 queries. users per second: 1963.37"
       ]
      },
      {
       "html": [
        "<pre>PROGRESS: recommendations finished on 181000/453024 queries. users per second: 1964.28</pre>"
       ],
       "metadata": {},
       "output_type": "display_data",
       "text": [
        "PROGRESS: recommendations finished on 181000/453024 queries. users per second: 1964.28"
       ]
      },
      {
       "html": [
        "<pre>PROGRESS: recommendations finished on 182000/453024 queries. users per second: 1965.15</pre>"
       ],
       "metadata": {},
       "output_type": "display_data",
       "text": [
        "PROGRESS: recommendations finished on 182000/453024 queries. users per second: 1965.15"
       ]
      },
      {
       "html": [
        "<pre>PROGRESS: recommendations finished on 183000/453024 queries. users per second: 1965.87</pre>"
       ],
       "metadata": {},
       "output_type": "display_data",
       "text": [
        "PROGRESS: recommendations finished on 183000/453024 queries. users per second: 1965.87"
       ]
      },
      {
       "html": [
        "<pre>PROGRESS: recommendations finished on 184000/453024 queries. users per second: 1966.44</pre>"
       ],
       "metadata": {},
       "output_type": "display_data",
       "text": [
        "PROGRESS: recommendations finished on 184000/453024 queries. users per second: 1966.44"
       ]
      },
      {
       "html": [
        "<pre>PROGRESS: recommendations finished on 185000/453024 queries. users per second: 1967.24</pre>"
       ],
       "metadata": {},
       "output_type": "display_data",
       "text": [
        "PROGRESS: recommendations finished on 185000/453024 queries. users per second: 1967.24"
       ]
      },
      {
       "html": [
        "<pre>PROGRESS: recommendations finished on 186000/453024 queries. users per second: 1968.01</pre>"
       ],
       "metadata": {},
       "output_type": "display_data",
       "text": [
        "PROGRESS: recommendations finished on 186000/453024 queries. users per second: 1968.01"
       ]
      },
      {
       "html": [
        "<pre>PROGRESS: recommendations finished on 187000/453024 queries. users per second: 1968.82</pre>"
       ],
       "metadata": {},
       "output_type": "display_data",
       "text": [
        "PROGRESS: recommendations finished on 187000/453024 queries. users per second: 1968.82"
       ]
      },
      {
       "html": [
        "<pre>PROGRESS: recommendations finished on 188000/453024 queries. users per second: 1969.62</pre>"
       ],
       "metadata": {},
       "output_type": "display_data",
       "text": [
        "PROGRESS: recommendations finished on 188000/453024 queries. users per second: 1969.62"
       ]
      },
      {
       "html": [
        "<pre>PROGRESS: recommendations finished on 189000/453024 queries. users per second: 1970.21</pre>"
       ],
       "metadata": {},
       "output_type": "display_data",
       "text": [
        "PROGRESS: recommendations finished on 189000/453024 queries. users per second: 1970.21"
       ]
      },
      {
       "html": [
        "<pre>PROGRESS: recommendations finished on 190000/453024 queries. users per second: 1970.93</pre>"
       ],
       "metadata": {},
       "output_type": "display_data",
       "text": [
        "PROGRESS: recommendations finished on 190000/453024 queries. users per second: 1970.93"
       ]
      },
      {
       "html": [
        "<pre>PROGRESS: recommendations finished on 191000/453024 queries. users per second: 1971.81</pre>"
       ],
       "metadata": {},
       "output_type": "display_data",
       "text": [
        "PROGRESS: recommendations finished on 191000/453024 queries. users per second: 1971.81"
       ]
      },
      {
       "html": [
        "<pre>PROGRESS: recommendations finished on 192000/453024 queries. users per second: 1972.58</pre>"
       ],
       "metadata": {},
       "output_type": "display_data",
       "text": [
        "PROGRESS: recommendations finished on 192000/453024 queries. users per second: 1972.58"
       ]
      },
      {
       "html": [
        "<pre>PROGRESS: recommendations finished on 193000/453024 queries. users per second: 1973.27</pre>"
       ],
       "metadata": {},
       "output_type": "display_data",
       "text": [
        "PROGRESS: recommendations finished on 193000/453024 queries. users per second: 1973.27"
       ]
      },
      {
       "html": [
        "<pre>PROGRESS: recommendations finished on 194000/453024 queries. users per second: 1974.08</pre>"
       ],
       "metadata": {},
       "output_type": "display_data",
       "text": [
        "PROGRESS: recommendations finished on 194000/453024 queries. users per second: 1974.08"
       ]
      },
      {
       "html": [
        "<pre>PROGRESS: recommendations finished on 195000/453024 queries. users per second: 1974.89</pre>"
       ],
       "metadata": {},
       "output_type": "display_data",
       "text": [
        "PROGRESS: recommendations finished on 195000/453024 queries. users per second: 1974.89"
       ]
      },
      {
       "html": [
        "<pre>PROGRESS: recommendations finished on 196000/453024 queries. users per second: 1975.57</pre>"
       ],
       "metadata": {},
       "output_type": "display_data",
       "text": [
        "PROGRESS: recommendations finished on 196000/453024 queries. users per second: 1975.57"
       ]
      },
      {
       "html": [
        "<pre>PROGRESS: recommendations finished on 197000/453024 queries. users per second: 1976.22</pre>"
       ],
       "metadata": {},
       "output_type": "display_data",
       "text": [
        "PROGRESS: recommendations finished on 197000/453024 queries. users per second: 1976.22"
       ]
      },
      {
       "html": [
        "<pre>PROGRESS: recommendations finished on 198000/453024 queries. users per second: 1977.14</pre>"
       ],
       "metadata": {},
       "output_type": "display_data",
       "text": [
        "PROGRESS: recommendations finished on 198000/453024 queries. users per second: 1977.14"
       ]
      },
      {
       "html": [
        "<pre>PROGRESS: recommendations finished on 199000/453024 queries. users per second: 1977.99</pre>"
       ],
       "metadata": {},
       "output_type": "display_data",
       "text": [
        "PROGRESS: recommendations finished on 199000/453024 queries. users per second: 1977.99"
       ]
      },
      {
       "html": [
        "<pre>PROGRESS: recommendations finished on 200000/453024 queries. users per second: 1978.79</pre>"
       ],
       "metadata": {},
       "output_type": "display_data",
       "text": [
        "PROGRESS: recommendations finished on 200000/453024 queries. users per second: 1978.79"
       ]
      },
      {
       "html": [
        "<pre>PROGRESS: recommendations finished on 201000/453024 queries. users per second: 1979.47</pre>"
       ],
       "metadata": {},
       "output_type": "display_data",
       "text": [
        "PROGRESS: recommendations finished on 201000/453024 queries. users per second: 1979.47"
       ]
      },
      {
       "html": [
        "<pre>PROGRESS: recommendations finished on 202000/453024 queries. users per second: 1980.06</pre>"
       ],
       "metadata": {},
       "output_type": "display_data",
       "text": [
        "PROGRESS: recommendations finished on 202000/453024 queries. users per second: 1980.06"
       ]
      },
      {
       "html": [
        "<pre>PROGRESS: recommendations finished on 203000/453024 queries. users per second: 1980.75</pre>"
       ],
       "metadata": {},
       "output_type": "display_data",
       "text": [
        "PROGRESS: recommendations finished on 203000/453024 queries. users per second: 1980.75"
       ]
      },
      {
       "html": [
        "<pre>PROGRESS: recommendations finished on 204000/453024 queries. users per second: 1981.5</pre>"
       ],
       "metadata": {},
       "output_type": "display_data",
       "text": [
        "PROGRESS: recommendations finished on 204000/453024 queries. users per second: 1981.5"
       ]
      },
      {
       "html": [
        "<pre>PROGRESS: recommendations finished on 205000/453024 queries. users per second: 1982.16</pre>"
       ],
       "metadata": {},
       "output_type": "display_data",
       "text": [
        "PROGRESS: recommendations finished on 205000/453024 queries. users per second: 1982.16"
       ]
      },
      {
       "html": [
        "<pre>PROGRESS: recommendations finished on 206000/453024 queries. users per second: 1982.91</pre>"
       ],
       "metadata": {},
       "output_type": "display_data",
       "text": [
        "PROGRESS: recommendations finished on 206000/453024 queries. users per second: 1982.91"
       ]
      },
      {
       "html": [
        "<pre>PROGRESS: recommendations finished on 207000/453024 queries. users per second: 1983.52</pre>"
       ],
       "metadata": {},
       "output_type": "display_data",
       "text": [
        "PROGRESS: recommendations finished on 207000/453024 queries. users per second: 1983.52"
       ]
      },
      {
       "html": [
        "<pre>PROGRESS: recommendations finished on 208000/453024 queries. users per second: 1984.23</pre>"
       ],
       "metadata": {},
       "output_type": "display_data",
       "text": [
        "PROGRESS: recommendations finished on 208000/453024 queries. users per second: 1984.23"
       ]
      },
      {
       "html": [
        "<pre>PROGRESS: recommendations finished on 209000/453024 queries. users per second: 1984.94</pre>"
       ],
       "metadata": {},
       "output_type": "display_data",
       "text": [
        "PROGRESS: recommendations finished on 209000/453024 queries. users per second: 1984.94"
       ]
      },
      {
       "html": [
        "<pre>PROGRESS: recommendations finished on 210000/453024 queries. users per second: 1985.43</pre>"
       ],
       "metadata": {},
       "output_type": "display_data",
       "text": [
        "PROGRESS: recommendations finished on 210000/453024 queries. users per second: 1985.43"
       ]
      },
      {
       "html": [
        "<pre>PROGRESS: recommendations finished on 211000/453024 queries. users per second: 1986.13</pre>"
       ],
       "metadata": {},
       "output_type": "display_data",
       "text": [
        "PROGRESS: recommendations finished on 211000/453024 queries. users per second: 1986.13"
       ]
      },
      {
       "html": [
        "<pre>PROGRESS: recommendations finished on 212000/453024 queries. users per second: 1986.96</pre>"
       ],
       "metadata": {},
       "output_type": "display_data",
       "text": [
        "PROGRESS: recommendations finished on 212000/453024 queries. users per second: 1986.96"
       ]
      },
      {
       "html": [
        "<pre>PROGRESS: recommendations finished on 213000/453024 queries. users per second: 1987.74</pre>"
       ],
       "metadata": {},
       "output_type": "display_data",
       "text": [
        "PROGRESS: recommendations finished on 213000/453024 queries. users per second: 1987.74"
       ]
      },
      {
       "html": [
        "<pre>PROGRESS: recommendations finished on 214000/453024 queries. users per second: 1988.48</pre>"
       ],
       "metadata": {},
       "output_type": "display_data",
       "text": [
        "PROGRESS: recommendations finished on 214000/453024 queries. users per second: 1988.48"
       ]
      },
      {
       "html": [
        "<pre>PROGRESS: recommendations finished on 215000/453024 queries. users per second: 1989.06</pre>"
       ],
       "metadata": {},
       "output_type": "display_data",
       "text": [
        "PROGRESS: recommendations finished on 215000/453024 queries. users per second: 1989.06"
       ]
      },
      {
       "html": [
        "<pre>PROGRESS: recommendations finished on 216000/453024 queries. users per second: 1989.73</pre>"
       ],
       "metadata": {},
       "output_type": "display_data",
       "text": [
        "PROGRESS: recommendations finished on 216000/453024 queries. users per second: 1989.73"
       ]
      },
      {
       "html": [
        "<pre>PROGRESS: recommendations finished on 217000/453024 queries. users per second: 1990.17</pre>"
       ],
       "metadata": {},
       "output_type": "display_data",
       "text": [
        "PROGRESS: recommendations finished on 217000/453024 queries. users per second: 1990.17"
       ]
      },
      {
       "html": [
        "<pre>PROGRESS: recommendations finished on 218000/453024 queries. users per second: 1990.76</pre>"
       ],
       "metadata": {},
       "output_type": "display_data",
       "text": [
        "PROGRESS: recommendations finished on 218000/453024 queries. users per second: 1990.76"
       ]
      },
      {
       "html": [
        "<pre>PROGRESS: recommendations finished on 219000/453024 queries. users per second: 1991.42</pre>"
       ],
       "metadata": {},
       "output_type": "display_data",
       "text": [
        "PROGRESS: recommendations finished on 219000/453024 queries. users per second: 1991.42"
       ]
      },
      {
       "html": [
        "<pre>PROGRESS: recommendations finished on 220000/453024 queries. users per second: 1992.17</pre>"
       ],
       "metadata": {},
       "output_type": "display_data",
       "text": [
        "PROGRESS: recommendations finished on 220000/453024 queries. users per second: 1992.17"
       ]
      },
      {
       "html": [
        "<pre>PROGRESS: recommendations finished on 221000/453024 queries. users per second: 1992.82</pre>"
       ],
       "metadata": {},
       "output_type": "display_data",
       "text": [
        "PROGRESS: recommendations finished on 221000/453024 queries. users per second: 1992.82"
       ]
      },
      {
       "html": [
        "<pre>PROGRESS: recommendations finished on 222000/453024 queries. users per second: 1993.43</pre>"
       ],
       "metadata": {},
       "output_type": "display_data",
       "text": [
        "PROGRESS: recommendations finished on 222000/453024 queries. users per second: 1993.43"
       ]
      },
      {
       "html": [
        "<pre>PROGRESS: recommendations finished on 223000/453024 queries. users per second: 1994.03</pre>"
       ],
       "metadata": {},
       "output_type": "display_data",
       "text": [
        "PROGRESS: recommendations finished on 223000/453024 queries. users per second: 1994.03"
       ]
      },
      {
       "html": [
        "<pre>PROGRESS: recommendations finished on 224000/453024 queries. users per second: 1994.3</pre>"
       ],
       "metadata": {},
       "output_type": "display_data",
       "text": [
        "PROGRESS: recommendations finished on 224000/453024 queries. users per second: 1994.3"
       ]
      },
      {
       "html": [
        "<pre>PROGRESS: recommendations finished on 225000/453024 queries. users per second: 1994.94</pre>"
       ],
       "metadata": {},
       "output_type": "display_data",
       "text": [
        "PROGRESS: recommendations finished on 225000/453024 queries. users per second: 1994.94"
       ]
      },
      {
       "html": [
        "<pre>PROGRESS: recommendations finished on 226000/453024 queries. users per second: 1995.38</pre>"
       ],
       "metadata": {},
       "output_type": "display_data",
       "text": [
        "PROGRESS: recommendations finished on 226000/453024 queries. users per second: 1995.38"
       ]
      },
      {
       "html": [
        "<pre>PROGRESS: recommendations finished on 227000/453024 queries. users per second: 1995.9</pre>"
       ],
       "metadata": {},
       "output_type": "display_data",
       "text": [
        "PROGRESS: recommendations finished on 227000/453024 queries. users per second: 1995.9"
       ]
      },
      {
       "html": [
        "<pre>PROGRESS: recommendations finished on 228000/453024 queries. users per second: 1996.47</pre>"
       ],
       "metadata": {},
       "output_type": "display_data",
       "text": [
        "PROGRESS: recommendations finished on 228000/453024 queries. users per second: 1996.47"
       ]
      },
      {
       "html": [
        "<pre>PROGRESS: recommendations finished on 229000/453024 queries. users per second: 1996.95</pre>"
       ],
       "metadata": {},
       "output_type": "display_data",
       "text": [
        "PROGRESS: recommendations finished on 229000/453024 queries. users per second: 1996.95"
       ]
      },
      {
       "html": [
        "<pre>PROGRESS: recommendations finished on 230000/453024 queries. users per second: 1997.45</pre>"
       ],
       "metadata": {},
       "output_type": "display_data",
       "text": [
        "PROGRESS: recommendations finished on 230000/453024 queries. users per second: 1997.45"
       ]
      },
      {
       "html": [
        "<pre>PROGRESS: recommendations finished on 231000/453024 queries. users per second: 1998.07</pre>"
       ],
       "metadata": {},
       "output_type": "display_data",
       "text": [
        "PROGRESS: recommendations finished on 231000/453024 queries. users per second: 1998.07"
       ]
      },
      {
       "html": [
        "<pre>PROGRESS: recommendations finished on 232000/453024 queries. users per second: 1998.58</pre>"
       ],
       "metadata": {},
       "output_type": "display_data",
       "text": [
        "PROGRESS: recommendations finished on 232000/453024 queries. users per second: 1998.58"
       ]
      },
      {
       "html": [
        "<pre>PROGRESS: recommendations finished on 233000/453024 queries. users per second: 1999.19</pre>"
       ],
       "metadata": {},
       "output_type": "display_data",
       "text": [
        "PROGRESS: recommendations finished on 233000/453024 queries. users per second: 1999.19"
       ]
      },
      {
       "html": [
        "<pre>PROGRESS: recommendations finished on 234000/453024 queries. users per second: 1999.77</pre>"
       ],
       "metadata": {},
       "output_type": "display_data",
       "text": [
        "PROGRESS: recommendations finished on 234000/453024 queries. users per second: 1999.77"
       ]
      },
      {
       "html": [
        "<pre>PROGRESS: recommendations finished on 235000/453024 queries. users per second: 2000.22</pre>"
       ],
       "metadata": {},
       "output_type": "display_data",
       "text": [
        "PROGRESS: recommendations finished on 235000/453024 queries. users per second: 2000.22"
       ]
      },
      {
       "html": [
        "<pre>PROGRESS: recommendations finished on 236000/453024 queries. users per second: 2000.8</pre>"
       ],
       "metadata": {},
       "output_type": "display_data",
       "text": [
        "PROGRESS: recommendations finished on 236000/453024 queries. users per second: 2000.8"
       ]
      },
      {
       "html": [
        "<pre>PROGRESS: recommendations finished on 237000/453024 queries. users per second: 2001.15</pre>"
       ],
       "metadata": {},
       "output_type": "display_data",
       "text": [
        "PROGRESS: recommendations finished on 237000/453024 queries. users per second: 2001.15"
       ]
      },
      {
       "html": [
        "<pre>PROGRESS: recommendations finished on 238000/453024 queries. users per second: 2001.69</pre>"
       ],
       "metadata": {},
       "output_type": "display_data",
       "text": [
        "PROGRESS: recommendations finished on 238000/453024 queries. users per second: 2001.69"
       ]
      },
      {
       "html": [
        "<pre>PROGRESS: recommendations finished on 239000/453024 queries. users per second: 2002.27</pre>"
       ],
       "metadata": {},
       "output_type": "display_data",
       "text": [
        "PROGRESS: recommendations finished on 239000/453024 queries. users per second: 2002.27"
       ]
      },
      {
       "html": [
        "<pre>PROGRESS: recommendations finished on 240000/453024 queries. users per second: 2002.83</pre>"
       ],
       "metadata": {},
       "output_type": "display_data",
       "text": [
        "PROGRESS: recommendations finished on 240000/453024 queries. users per second: 2002.83"
       ]
      },
      {
       "html": [
        "<pre>PROGRESS: recommendations finished on 241000/453024 queries. users per second: 2003.21</pre>"
       ],
       "metadata": {},
       "output_type": "display_data",
       "text": [
        "PROGRESS: recommendations finished on 241000/453024 queries. users per second: 2003.21"
       ]
      },
      {
       "html": [
        "<pre>PROGRESS: recommendations finished on 242000/453024 queries. users per second: 2003.78</pre>"
       ],
       "metadata": {},
       "output_type": "display_data",
       "text": [
        "PROGRESS: recommendations finished on 242000/453024 queries. users per second: 2003.78"
       ]
      },
      {
       "html": [
        "<pre>PROGRESS: recommendations finished on 243000/453024 queries. users per second: 2004.29</pre>"
       ],
       "metadata": {},
       "output_type": "display_data",
       "text": [
        "PROGRESS: recommendations finished on 243000/453024 queries. users per second: 2004.29"
       ]
      },
      {
       "html": [
        "<pre>PROGRESS: recommendations finished on 244000/453024 queries. users per second: 2004.71</pre>"
       ],
       "metadata": {},
       "output_type": "display_data",
       "text": [
        "PROGRESS: recommendations finished on 244000/453024 queries. users per second: 2004.71"
       ]
      },
      {
       "html": [
        "<pre>PROGRESS: recommendations finished on 245000/453024 queries. users per second: 2005.13</pre>"
       ],
       "metadata": {},
       "output_type": "display_data",
       "text": [
        "PROGRESS: recommendations finished on 245000/453024 queries. users per second: 2005.13"
       ]
      },
      {
       "html": [
        "<pre>PROGRESS: recommendations finished on 246000/453024 queries. users per second: 2005.67</pre>"
       ],
       "metadata": {},
       "output_type": "display_data",
       "text": [
        "PROGRESS: recommendations finished on 246000/453024 queries. users per second: 2005.67"
       ]
      },
      {
       "html": [
        "<pre>PROGRESS: recommendations finished on 247000/453024 queries. users per second: 2006.22</pre>"
       ],
       "metadata": {},
       "output_type": "display_data",
       "text": [
        "PROGRESS: recommendations finished on 247000/453024 queries. users per second: 2006.22"
       ]
      },
      {
       "html": [
        "<pre>PROGRESS: recommendations finished on 248000/453024 queries. users per second: 2006.66</pre>"
       ],
       "metadata": {},
       "output_type": "display_data",
       "text": [
        "PROGRESS: recommendations finished on 248000/453024 queries. users per second: 2006.66"
       ]
      },
      {
       "html": [
        "<pre>PROGRESS: recommendations finished on 249000/453024 queries. users per second: 2007.11</pre>"
       ],
       "metadata": {},
       "output_type": "display_data",
       "text": [
        "PROGRESS: recommendations finished on 249000/453024 queries. users per second: 2007.11"
       ]
      },
      {
       "html": [
        "<pre>PROGRESS: recommendations finished on 250000/453024 queries. users per second: 2007.65</pre>"
       ],
       "metadata": {},
       "output_type": "display_data",
       "text": [
        "PROGRESS: recommendations finished on 250000/453024 queries. users per second: 2007.65"
       ]
      },
      {
       "html": [
        "<pre>PROGRESS: recommendations finished on 251000/453024 queries. users per second: 2007.73</pre>"
       ],
       "metadata": {},
       "output_type": "display_data",
       "text": [
        "PROGRESS: recommendations finished on 251000/453024 queries. users per second: 2007.73"
       ]
      },
      {
       "html": [
        "<pre>PROGRESS: recommendations finished on 252000/453024 queries. users per second: 2008.13</pre>"
       ],
       "metadata": {},
       "output_type": "display_data",
       "text": [
        "PROGRESS: recommendations finished on 252000/453024 queries. users per second: 2008.13"
       ]
      },
      {
       "html": [
        "<pre>PROGRESS: recommendations finished on 253000/453024 queries. users per second: 2008.57</pre>"
       ],
       "metadata": {},
       "output_type": "display_data",
       "text": [
        "PROGRESS: recommendations finished on 253000/453024 queries. users per second: 2008.57"
       ]
      },
      {
       "html": [
        "<pre>PROGRESS: recommendations finished on 254000/453024 queries. users per second: 2009.07</pre>"
       ],
       "metadata": {},
       "output_type": "display_data",
       "text": [
        "PROGRESS: recommendations finished on 254000/453024 queries. users per second: 2009.07"
       ]
      },
      {
       "html": [
        "<pre>PROGRESS: recommendations finished on 255000/453024 queries. users per second: 2009.51</pre>"
       ],
       "metadata": {},
       "output_type": "display_data",
       "text": [
        "PROGRESS: recommendations finished on 255000/453024 queries. users per second: 2009.51"
       ]
      },
      {
       "html": [
        "<pre>PROGRESS: recommendations finished on 256000/453024 queries. users per second: 2010.07</pre>"
       ],
       "metadata": {},
       "output_type": "display_data",
       "text": [
        "PROGRESS: recommendations finished on 256000/453024 queries. users per second: 2010.07"
       ]
      },
      {
       "html": [
        "<pre>PROGRESS: recommendations finished on 257000/453024 queries. users per second: 2010.55</pre>"
       ],
       "metadata": {},
       "output_type": "display_data",
       "text": [
        "PROGRESS: recommendations finished on 257000/453024 queries. users per second: 2010.55"
       ]
      },
      {
       "html": [
        "<pre>PROGRESS: recommendations finished on 258000/453024 queries. users per second: 2011</pre>"
       ],
       "metadata": {},
       "output_type": "display_data",
       "text": [
        "PROGRESS: recommendations finished on 258000/453024 queries. users per second: 2011"
       ]
      },
      {
       "html": [
        "<pre>PROGRESS: recommendations finished on 259000/453024 queries. users per second: 2011.4</pre>"
       ],
       "metadata": {},
       "output_type": "display_data",
       "text": [
        "PROGRESS: recommendations finished on 259000/453024 queries. users per second: 2011.4"
       ]
      },
      {
       "html": [
        "<pre>PROGRESS: recommendations finished on 260000/453024 queries. users per second: 2011.76</pre>"
       ],
       "metadata": {},
       "output_type": "display_data",
       "text": [
        "PROGRESS: recommendations finished on 260000/453024 queries. users per second: 2011.76"
       ]
      },
      {
       "html": [
        "<pre>PROGRESS: recommendations finished on 261000/453024 queries. users per second: 2012.21</pre>"
       ],
       "metadata": {},
       "output_type": "display_data",
       "text": [
        "PROGRESS: recommendations finished on 261000/453024 queries. users per second: 2012.21"
       ]
      },
      {
       "html": [
        "<pre>PROGRESS: recommendations finished on 262000/453024 queries. users per second: 2012.61</pre>"
       ],
       "metadata": {},
       "output_type": "display_data",
       "text": [
        "PROGRESS: recommendations finished on 262000/453024 queries. users per second: 2012.61"
       ]
      },
      {
       "html": [
        "<pre>PROGRESS: recommendations finished on 263000/453024 queries. users per second: 2012.99</pre>"
       ],
       "metadata": {},
       "output_type": "display_data",
       "text": [
        "PROGRESS: recommendations finished on 263000/453024 queries. users per second: 2012.99"
       ]
      },
      {
       "html": [
        "<pre>PROGRESS: recommendations finished on 264000/453024 queries. users per second: 2013.38</pre>"
       ],
       "metadata": {},
       "output_type": "display_data",
       "text": [
        "PROGRESS: recommendations finished on 264000/453024 queries. users per second: 2013.38"
       ]
      },
      {
       "html": [
        "<pre>PROGRESS: recommendations finished on 265000/453024 queries. users per second: 2013.76</pre>"
       ],
       "metadata": {},
       "output_type": "display_data",
       "text": [
        "PROGRESS: recommendations finished on 265000/453024 queries. users per second: 2013.76"
       ]
      },
      {
       "html": [
        "<pre>PROGRESS: recommendations finished on 266000/453024 queries. users per second: 2014.13</pre>"
       ],
       "metadata": {},
       "output_type": "display_data",
       "text": [
        "PROGRESS: recommendations finished on 266000/453024 queries. users per second: 2014.13"
       ]
      },
      {
       "html": [
        "<pre>PROGRESS: recommendations finished on 267000/453024 queries. users per second: 2014.46</pre>"
       ],
       "metadata": {},
       "output_type": "display_data",
       "text": [
        "PROGRESS: recommendations finished on 267000/453024 queries. users per second: 2014.46"
       ]
      },
      {
       "html": [
        "<pre>PROGRESS: recommendations finished on 268000/453024 queries. users per second: 2014.91</pre>"
       ],
       "metadata": {},
       "output_type": "display_data",
       "text": [
        "PROGRESS: recommendations finished on 268000/453024 queries. users per second: 2014.91"
       ]
      },
      {
       "html": [
        "<pre>PROGRESS: recommendations finished on 269000/453024 queries. users per second: 2015.3</pre>"
       ],
       "metadata": {},
       "output_type": "display_data",
       "text": [
        "PROGRESS: recommendations finished on 269000/453024 queries. users per second: 2015.3"
       ]
      },
      {
       "html": [
        "<pre>PROGRESS: recommendations finished on 270000/453024 queries. users per second: 2015.68</pre>"
       ],
       "metadata": {},
       "output_type": "display_data",
       "text": [
        "PROGRESS: recommendations finished on 270000/453024 queries. users per second: 2015.68"
       ]
      },
      {
       "html": [
        "<pre>PROGRESS: recommendations finished on 271000/453024 queries. users per second: 2015.99</pre>"
       ],
       "metadata": {},
       "output_type": "display_data",
       "text": [
        "PROGRESS: recommendations finished on 271000/453024 queries. users per second: 2015.99"
       ]
      },
      {
       "html": [
        "<pre>PROGRESS: recommendations finished on 272000/453024 queries. users per second: 2016.4</pre>"
       ],
       "metadata": {},
       "output_type": "display_data",
       "text": [
        "PROGRESS: recommendations finished on 272000/453024 queries. users per second: 2016.4"
       ]
      },
      {
       "html": [
        "<pre>PROGRESS: recommendations finished on 273000/453024 queries. users per second: 2016.82</pre>"
       ],
       "metadata": {},
       "output_type": "display_data",
       "text": [
        "PROGRESS: recommendations finished on 273000/453024 queries. users per second: 2016.82"
       ]
      },
      {
       "html": [
        "<pre>PROGRESS: recommendations finished on 274000/453024 queries. users per second: 2017.19</pre>"
       ],
       "metadata": {},
       "output_type": "display_data",
       "text": [
        "PROGRESS: recommendations finished on 274000/453024 queries. users per second: 2017.19"
       ]
      },
      {
       "html": [
        "<pre>PROGRESS: recommendations finished on 275000/453024 queries. users per second: 2017.69</pre>"
       ],
       "metadata": {},
       "output_type": "display_data",
       "text": [
        "PROGRESS: recommendations finished on 275000/453024 queries. users per second: 2017.69"
       ]
      },
      {
       "html": [
        "<pre>PROGRESS: recommendations finished on 276000/453024 queries. users per second: 2018.13</pre>"
       ],
       "metadata": {},
       "output_type": "display_data",
       "text": [
        "PROGRESS: recommendations finished on 276000/453024 queries. users per second: 2018.13"
       ]
      },
      {
       "html": [
        "<pre>PROGRESS: recommendations finished on 277000/453024 queries. users per second: 2018.41</pre>"
       ],
       "metadata": {},
       "output_type": "display_data",
       "text": [
        "PROGRESS: recommendations finished on 277000/453024 queries. users per second: 2018.41"
       ]
      },
      {
       "html": [
        "<pre>PROGRESS: recommendations finished on 278000/453024 queries. users per second: 2018.8</pre>"
       ],
       "metadata": {},
       "output_type": "display_data",
       "text": [
        "PROGRESS: recommendations finished on 278000/453024 queries. users per second: 2018.8"
       ]
      },
      {
       "html": [
        "<pre>PROGRESS: recommendations finished on 279000/453024 queries. users per second: 2019.1</pre>"
       ],
       "metadata": {},
       "output_type": "display_data",
       "text": [
        "PROGRESS: recommendations finished on 279000/453024 queries. users per second: 2019.1"
       ]
      },
      {
       "html": [
        "<pre>PROGRESS: recommendations finished on 280000/453024 queries. users per second: 2019.33</pre>"
       ],
       "metadata": {},
       "output_type": "display_data",
       "text": [
        "PROGRESS: recommendations finished on 280000/453024 queries. users per second: 2019.33"
       ]
      },
      {
       "html": [
        "<pre>PROGRESS: recommendations finished on 281000/453024 queries. users per second: 2019.69</pre>"
       ],
       "metadata": {},
       "output_type": "display_data",
       "text": [
        "PROGRESS: recommendations finished on 281000/453024 queries. users per second: 2019.69"
       ]
      },
      {
       "html": [
        "<pre>PROGRESS: recommendations finished on 282000/453024 queries. users per second: 2020.12</pre>"
       ],
       "metadata": {},
       "output_type": "display_data",
       "text": [
        "PROGRESS: recommendations finished on 282000/453024 queries. users per second: 2020.12"
       ]
      },
      {
       "html": [
        "<pre>PROGRESS: recommendations finished on 283000/453024 queries. users per second: 2020.35</pre>"
       ],
       "metadata": {},
       "output_type": "display_data",
       "text": [
        "PROGRESS: recommendations finished on 283000/453024 queries. users per second: 2020.35"
       ]
      },
      {
       "html": [
        "<pre>PROGRESS: recommendations finished on 284000/453024 queries. users per second: 2020.61</pre>"
       ],
       "metadata": {},
       "output_type": "display_data",
       "text": [
        "PROGRESS: recommendations finished on 284000/453024 queries. users per second: 2020.61"
       ]
      },
      {
       "html": [
        "<pre>PROGRESS: recommendations finished on 285000/453024 queries. users per second: 2021.02</pre>"
       ],
       "metadata": {},
       "output_type": "display_data",
       "text": [
        "PROGRESS: recommendations finished on 285000/453024 queries. users per second: 2021.02"
       ]
      },
      {
       "html": [
        "<pre>PROGRESS: recommendations finished on 286000/453024 queries. users per second: 2021.4</pre>"
       ],
       "metadata": {},
       "output_type": "display_data",
       "text": [
        "PROGRESS: recommendations finished on 286000/453024 queries. users per second: 2021.4"
       ]
      },
      {
       "html": [
        "<pre>PROGRESS: recommendations finished on 287000/453024 queries. users per second: 2021.74</pre>"
       ],
       "metadata": {},
       "output_type": "display_data",
       "text": [
        "PROGRESS: recommendations finished on 287000/453024 queries. users per second: 2021.74"
       ]
      },
      {
       "html": [
        "<pre>PROGRESS: recommendations finished on 288000/453024 queries. users per second: 2022.07</pre>"
       ],
       "metadata": {},
       "output_type": "display_data",
       "text": [
        "PROGRESS: recommendations finished on 288000/453024 queries. users per second: 2022.07"
       ]
      },
      {
       "html": [
        "<pre>PROGRESS: recommendations finished on 289000/453024 queries. users per second: 2022.28</pre>"
       ],
       "metadata": {},
       "output_type": "display_data",
       "text": [
        "PROGRESS: recommendations finished on 289000/453024 queries. users per second: 2022.28"
       ]
      },
      {
       "html": [
        "<pre>PROGRESS: recommendations finished on 290000/453024 queries. users per second: 2022.74</pre>"
       ],
       "metadata": {},
       "output_type": "display_data",
       "text": [
        "PROGRESS: recommendations finished on 290000/453024 queries. users per second: 2022.74"
       ]
      },
      {
       "html": [
        "<pre>PROGRESS: recommendations finished on 291000/453024 queries. users per second: 2023.04</pre>"
       ],
       "metadata": {},
       "output_type": "display_data",
       "text": [
        "PROGRESS: recommendations finished on 291000/453024 queries. users per second: 2023.04"
       ]
      },
      {
       "html": [
        "<pre>PROGRESS: recommendations finished on 292000/453024 queries. users per second: 2023.4</pre>"
       ],
       "metadata": {},
       "output_type": "display_data",
       "text": [
        "PROGRESS: recommendations finished on 292000/453024 queries. users per second: 2023.4"
       ]
      },
      {
       "html": [
        "<pre>PROGRESS: recommendations finished on 293000/453024 queries. users per second: 2023.69</pre>"
       ],
       "metadata": {},
       "output_type": "display_data",
       "text": [
        "PROGRESS: recommendations finished on 293000/453024 queries. users per second: 2023.69"
       ]
      },
      {
       "html": [
        "<pre>PROGRESS: recommendations finished on 294000/453024 queries. users per second: 2024.03</pre>"
       ],
       "metadata": {},
       "output_type": "display_data",
       "text": [
        "PROGRESS: recommendations finished on 294000/453024 queries. users per second: 2024.03"
       ]
      },
      {
       "html": [
        "<pre>PROGRESS: recommendations finished on 295000/453024 queries. users per second: 2024.46</pre>"
       ],
       "metadata": {},
       "output_type": "display_data",
       "text": [
        "PROGRESS: recommendations finished on 295000/453024 queries. users per second: 2024.46"
       ]
      },
      {
       "html": [
        "<pre>PROGRESS: recommendations finished on 296000/453024 queries. users per second: 2024.74</pre>"
       ],
       "metadata": {},
       "output_type": "display_data",
       "text": [
        "PROGRESS: recommendations finished on 296000/453024 queries. users per second: 2024.74"
       ]
      },
      {
       "html": [
        "<pre>PROGRESS: recommendations finished on 297000/453024 queries. users per second: 2025.01</pre>"
       ],
       "metadata": {},
       "output_type": "display_data",
       "text": [
        "PROGRESS: recommendations finished on 297000/453024 queries. users per second: 2025.01"
       ]
      },
      {
       "html": [
        "<pre>PROGRESS: recommendations finished on 298000/453024 queries. users per second: 2025.23</pre>"
       ],
       "metadata": {},
       "output_type": "display_data",
       "text": [
        "PROGRESS: recommendations finished on 298000/453024 queries. users per second: 2025.23"
       ]
      },
      {
       "html": [
        "<pre>PROGRESS: recommendations finished on 299000/453024 queries. users per second: 2025.56</pre>"
       ],
       "metadata": {},
       "output_type": "display_data",
       "text": [
        "PROGRESS: recommendations finished on 299000/453024 queries. users per second: 2025.56"
       ]
      },
      {
       "html": [
        "<pre>PROGRESS: recommendations finished on 300000/453024 queries. users per second: 2025.75</pre>"
       ],
       "metadata": {},
       "output_type": "display_data",
       "text": [
        "PROGRESS: recommendations finished on 300000/453024 queries. users per second: 2025.75"
       ]
      },
      {
       "html": [
        "<pre>PROGRESS: recommendations finished on 301000/453024 queries. users per second: 2026.11</pre>"
       ],
       "metadata": {},
       "output_type": "display_data",
       "text": [
        "PROGRESS: recommendations finished on 301000/453024 queries. users per second: 2026.11"
       ]
      },
      {
       "html": [
        "<pre>PROGRESS: recommendations finished on 302000/453024 queries. users per second: 2026.52</pre>"
       ],
       "metadata": {},
       "output_type": "display_data",
       "text": [
        "PROGRESS: recommendations finished on 302000/453024 queries. users per second: 2026.52"
       ]
      },
      {
       "html": [
        "<pre>PROGRESS: recommendations finished on 303000/453024 queries. users per second: 2026.85</pre>"
       ],
       "metadata": {},
       "output_type": "display_data",
       "text": [
        "PROGRESS: recommendations finished on 303000/453024 queries. users per second: 2026.85"
       ]
      },
      {
       "html": [
        "<pre>PROGRESS: recommendations finished on 304000/453024 queries. users per second: 2027.13</pre>"
       ],
       "metadata": {},
       "output_type": "display_data",
       "text": [
        "PROGRESS: recommendations finished on 304000/453024 queries. users per second: 2027.13"
       ]
      },
      {
       "html": [
        "<pre>PROGRESS: recommendations finished on 305000/453024 queries. users per second: 2027.35</pre>"
       ],
       "metadata": {},
       "output_type": "display_data",
       "text": [
        "PROGRESS: recommendations finished on 305000/453024 queries. users per second: 2027.35"
       ]
      },
      {
       "html": [
        "<pre>PROGRESS: recommendations finished on 306000/453024 queries. users per second: 2027.65</pre>"
       ],
       "metadata": {},
       "output_type": "display_data",
       "text": [
        "PROGRESS: recommendations finished on 306000/453024 queries. users per second: 2027.65"
       ]
      },
      {
       "html": [
        "<pre>PROGRESS: recommendations finished on 307000/453024 queries. users per second: 2027.99</pre>"
       ],
       "metadata": {},
       "output_type": "display_data",
       "text": [
        "PROGRESS: recommendations finished on 307000/453024 queries. users per second: 2027.99"
       ]
      },
      {
       "html": [
        "<pre>PROGRESS: recommendations finished on 308000/453024 queries. users per second: 2028.33</pre>"
       ],
       "metadata": {},
       "output_type": "display_data",
       "text": [
        "PROGRESS: recommendations finished on 308000/453024 queries. users per second: 2028.33"
       ]
      },
      {
       "html": [
        "<pre>PROGRESS: recommendations finished on 309000/453024 queries. users per second: 2028.67</pre>"
       ],
       "metadata": {},
       "output_type": "display_data",
       "text": [
        "PROGRESS: recommendations finished on 309000/453024 queries. users per second: 2028.67"
       ]
      },
      {
       "html": [
        "<pre>PROGRESS: recommendations finished on 310000/453024 queries. users per second: 2029.02</pre>"
       ],
       "metadata": {},
       "output_type": "display_data",
       "text": [
        "PROGRESS: recommendations finished on 310000/453024 queries. users per second: 2029.02"
       ]
      },
      {
       "html": [
        "<pre>PROGRESS: recommendations finished on 311000/453024 queries. users per second: 2029.33</pre>"
       ],
       "metadata": {},
       "output_type": "display_data",
       "text": [
        "PROGRESS: recommendations finished on 311000/453024 queries. users per second: 2029.33"
       ]
      },
      {
       "html": [
        "<pre>PROGRESS: recommendations finished on 312000/453024 queries. users per second: 2029.65</pre>"
       ],
       "metadata": {},
       "output_type": "display_data",
       "text": [
        "PROGRESS: recommendations finished on 312000/453024 queries. users per second: 2029.65"
       ]
      },
      {
       "html": [
        "<pre>PROGRESS: recommendations finished on 313000/453024 queries. users per second: 2029.79</pre>"
       ],
       "metadata": {},
       "output_type": "display_data",
       "text": [
        "PROGRESS: recommendations finished on 313000/453024 queries. users per second: 2029.79"
       ]
      },
      {
       "html": [
        "<pre>PROGRESS: recommendations finished on 314000/453024 queries. users per second: 2029.97</pre>"
       ],
       "metadata": {},
       "output_type": "display_data",
       "text": [
        "PROGRESS: recommendations finished on 314000/453024 queries. users per second: 2029.97"
       ]
      },
      {
       "html": [
        "<pre>PROGRESS: recommendations finished on 315000/453024 queries. users per second: 2030</pre>"
       ],
       "metadata": {},
       "output_type": "display_data",
       "text": [
        "PROGRESS: recommendations finished on 315000/453024 queries. users per second: 2030"
       ]
      },
      {
       "html": [
        "<pre>PROGRESS: recommendations finished on 316000/453024 queries. users per second: 2030.15</pre>"
       ],
       "metadata": {},
       "output_type": "display_data",
       "text": [
        "PROGRESS: recommendations finished on 316000/453024 queries. users per second: 2030.15"
       ]
      },
      {
       "html": [
        "<pre>PROGRESS: recommendations finished on 317000/453024 queries. users per second: 2030.48</pre>"
       ],
       "metadata": {},
       "output_type": "display_data",
       "text": [
        "PROGRESS: recommendations finished on 317000/453024 queries. users per second: 2030.48"
       ]
      },
      {
       "html": [
        "<pre>PROGRESS: recommendations finished on 318000/453024 queries. users per second: 2030.57</pre>"
       ],
       "metadata": {},
       "output_type": "display_data",
       "text": [
        "PROGRESS: recommendations finished on 318000/453024 queries. users per second: 2030.57"
       ]
      },
      {
       "html": [
        "<pre>PROGRESS: recommendations finished on 319000/453024 queries. users per second: 2030.84</pre>"
       ],
       "metadata": {},
       "output_type": "display_data",
       "text": [
        "PROGRESS: recommendations finished on 319000/453024 queries. users per second: 2030.84"
       ]
      },
      {
       "html": [
        "<pre>PROGRESS: recommendations finished on 320000/453024 queries. users per second: 2031.12</pre>"
       ],
       "metadata": {},
       "output_type": "display_data",
       "text": [
        "PROGRESS: recommendations finished on 320000/453024 queries. users per second: 2031.12"
       ]
      },
      {
       "html": [
        "<pre>PROGRESS: recommendations finished on 321000/453024 queries. users per second: 2031.45</pre>"
       ],
       "metadata": {},
       "output_type": "display_data",
       "text": [
        "PROGRESS: recommendations finished on 321000/453024 queries. users per second: 2031.45"
       ]
      },
      {
       "html": [
        "<pre>PROGRESS: recommendations finished on 322000/453024 queries. users per second: 2031.52</pre>"
       ],
       "metadata": {},
       "output_type": "display_data",
       "text": [
        "PROGRESS: recommendations finished on 322000/453024 queries. users per second: 2031.52"
       ]
      },
      {
       "html": [
        "<pre>PROGRESS: recommendations finished on 323000/453024 queries. users per second: 2031.6</pre>"
       ],
       "metadata": {},
       "output_type": "display_data",
       "text": [
        "PROGRESS: recommendations finished on 323000/453024 queries. users per second: 2031.6"
       ]
      },
      {
       "html": [
        "<pre>PROGRESS: recommendations finished on 324000/453024 queries. users per second: 2031.84</pre>"
       ],
       "metadata": {},
       "output_type": "display_data",
       "text": [
        "PROGRESS: recommendations finished on 324000/453024 queries. users per second: 2031.84"
       ]
      },
      {
       "html": [
        "<pre>PROGRESS: recommendations finished on 325000/453024 queries. users per second: 2031.9</pre>"
       ],
       "metadata": {},
       "output_type": "display_data",
       "text": [
        "PROGRESS: recommendations finished on 325000/453024 queries. users per second: 2031.9"
       ]
      },
      {
       "html": [
        "<pre>PROGRESS: recommendations finished on 326000/453024 queries. users per second: 2032.09</pre>"
       ],
       "metadata": {},
       "output_type": "display_data",
       "text": [
        "PROGRESS: recommendations finished on 326000/453024 queries. users per second: 2032.09"
       ]
      },
      {
       "html": [
        "<pre>PROGRESS: recommendations finished on 327000/453024 queries. users per second: 2032.28</pre>"
       ],
       "metadata": {},
       "output_type": "display_data",
       "text": [
        "PROGRESS: recommendations finished on 327000/453024 queries. users per second: 2032.28"
       ]
      },
      {
       "html": [
        "<pre>PROGRESS: recommendations finished on 328000/453024 queries. users per second: 2032.56</pre>"
       ],
       "metadata": {},
       "output_type": "display_data",
       "text": [
        "PROGRESS: recommendations finished on 328000/453024 queries. users per second: 2032.56"
       ]
      },
      {
       "html": [
        "<pre>PROGRESS: recommendations finished on 329000/453024 queries. users per second: 2032.79</pre>"
       ],
       "metadata": {},
       "output_type": "display_data",
       "text": [
        "PROGRESS: recommendations finished on 329000/453024 queries. users per second: 2032.79"
       ]
      },
      {
       "html": [
        "<pre>PROGRESS: recommendations finished on 330000/453024 queries. users per second: 2033.1</pre>"
       ],
       "metadata": {},
       "output_type": "display_data",
       "text": [
        "PROGRESS: recommendations finished on 330000/453024 queries. users per second: 2033.1"
       ]
      },
      {
       "html": [
        "<pre>PROGRESS: recommendations finished on 331000/453024 queries. users per second: 2033.33</pre>"
       ],
       "metadata": {},
       "output_type": "display_data",
       "text": [
        "PROGRESS: recommendations finished on 331000/453024 queries. users per second: 2033.33"
       ]
      },
      {
       "html": [
        "<pre>PROGRESS: recommendations finished on 332000/453024 queries. users per second: 2033.58</pre>"
       ],
       "metadata": {},
       "output_type": "display_data",
       "text": [
        "PROGRESS: recommendations finished on 332000/453024 queries. users per second: 2033.58"
       ]
      },
      {
       "html": [
        "<pre>PROGRESS: recommendations finished on 333000/453024 queries. users per second: 2033.8</pre>"
       ],
       "metadata": {},
       "output_type": "display_data",
       "text": [
        "PROGRESS: recommendations finished on 333000/453024 queries. users per second: 2033.8"
       ]
      },
      {
       "html": [
        "<pre>PROGRESS: recommendations finished on 334000/453024 queries. users per second: 2033.92</pre>"
       ],
       "metadata": {},
       "output_type": "display_data",
       "text": [
        "PROGRESS: recommendations finished on 334000/453024 queries. users per second: 2033.92"
       ]
      },
      {
       "html": [
        "<pre>PROGRESS: recommendations finished on 335000/453024 queries. users per second: 2034.23</pre>"
       ],
       "metadata": {},
       "output_type": "display_data",
       "text": [
        "PROGRESS: recommendations finished on 335000/453024 queries. users per second: 2034.23"
       ]
      },
      {
       "html": [
        "<pre>PROGRESS: recommendations finished on 336000/453024 queries. users per second: 2034.56</pre>"
       ],
       "metadata": {},
       "output_type": "display_data",
       "text": [
        "PROGRESS: recommendations finished on 336000/453024 queries. users per second: 2034.56"
       ]
      },
      {
       "html": [
        "<pre>PROGRESS: recommendations finished on 337000/453024 queries. users per second: 2034.73</pre>"
       ],
       "metadata": {},
       "output_type": "display_data",
       "text": [
        "PROGRESS: recommendations finished on 337000/453024 queries. users per second: 2034.73"
       ]
      },
      {
       "html": [
        "<pre>PROGRESS: recommendations finished on 338000/453024 queries. users per second: 2034.91</pre>"
       ],
       "metadata": {},
       "output_type": "display_data",
       "text": [
        "PROGRESS: recommendations finished on 338000/453024 queries. users per second: 2034.91"
       ]
      },
      {
       "html": [
        "<pre>PROGRESS: recommendations finished on 339000/453024 queries. users per second: 2035.09</pre>"
       ],
       "metadata": {},
       "output_type": "display_data",
       "text": [
        "PROGRESS: recommendations finished on 339000/453024 queries. users per second: 2035.09"
       ]
      },
      {
       "html": [
        "<pre>PROGRESS: recommendations finished on 340000/453024 queries. users per second: 2035.39</pre>"
       ],
       "metadata": {},
       "output_type": "display_data",
       "text": [
        "PROGRESS: recommendations finished on 340000/453024 queries. users per second: 2035.39"
       ]
      },
      {
       "html": [
        "<pre>PROGRESS: recommendations finished on 341000/453024 queries. users per second: 2035.64</pre>"
       ],
       "metadata": {},
       "output_type": "display_data",
       "text": [
        "PROGRESS: recommendations finished on 341000/453024 queries. users per second: 2035.64"
       ]
      },
      {
       "html": [
        "<pre>PROGRESS: recommendations finished on 342000/453024 queries. users per second: 2035.82</pre>"
       ],
       "metadata": {},
       "output_type": "display_data",
       "text": [
        "PROGRESS: recommendations finished on 342000/453024 queries. users per second: 2035.82"
       ]
      },
      {
       "html": [
        "<pre>PROGRESS: recommendations finished on 343000/453024 queries. users per second: 2036.03</pre>"
       ],
       "metadata": {},
       "output_type": "display_data",
       "text": [
        "PROGRESS: recommendations finished on 343000/453024 queries. users per second: 2036.03"
       ]
      },
      {
       "html": [
        "<pre>PROGRESS: recommendations finished on 344000/453024 queries. users per second: 2036.27</pre>"
       ],
       "metadata": {},
       "output_type": "display_data",
       "text": [
        "PROGRESS: recommendations finished on 344000/453024 queries. users per second: 2036.27"
       ]
      },
      {
       "html": [
        "<pre>PROGRESS: recommendations finished on 345000/453024 queries. users per second: 2036.48</pre>"
       ],
       "metadata": {},
       "output_type": "display_data",
       "text": [
        "PROGRESS: recommendations finished on 345000/453024 queries. users per second: 2036.48"
       ]
      },
      {
       "html": [
        "<pre>PROGRESS: recommendations finished on 346000/453024 queries. users per second: 2036.68</pre>"
       ],
       "metadata": {},
       "output_type": "display_data",
       "text": [
        "PROGRESS: recommendations finished on 346000/453024 queries. users per second: 2036.68"
       ]
      },
      {
       "html": [
        "<pre>PROGRESS: recommendations finished on 347000/453024 queries. users per second: 2036.91</pre>"
       ],
       "metadata": {},
       "output_type": "display_data",
       "text": [
        "PROGRESS: recommendations finished on 347000/453024 queries. users per second: 2036.91"
       ]
      },
      {
       "html": [
        "<pre>PROGRESS: recommendations finished on 348000/453024 queries. users per second: 2037.2</pre>"
       ],
       "metadata": {},
       "output_type": "display_data",
       "text": [
        "PROGRESS: recommendations finished on 348000/453024 queries. users per second: 2037.2"
       ]
      },
      {
       "html": [
        "<pre>PROGRESS: recommendations finished on 349000/453024 queries. users per second: 2037.48</pre>"
       ],
       "metadata": {},
       "output_type": "display_data",
       "text": [
        "PROGRESS: recommendations finished on 349000/453024 queries. users per second: 2037.48"
       ]
      },
      {
       "html": [
        "<pre>PROGRESS: recommendations finished on 350000/453024 queries. users per second: 2037.61</pre>"
       ],
       "metadata": {},
       "output_type": "display_data",
       "text": [
        "PROGRESS: recommendations finished on 350000/453024 queries. users per second: 2037.61"
       ]
      },
      {
       "html": [
        "<pre>PROGRESS: recommendations finished on 351000/453024 queries. users per second: 2037.87</pre>"
       ],
       "metadata": {},
       "output_type": "display_data",
       "text": [
        "PROGRESS: recommendations finished on 351000/453024 queries. users per second: 2037.87"
       ]
      },
      {
       "html": [
        "<pre>PROGRESS: recommendations finished on 352000/453024 queries. users per second: 2037.93</pre>"
       ],
       "metadata": {},
       "output_type": "display_data",
       "text": [
        "PROGRESS: recommendations finished on 352000/453024 queries. users per second: 2037.93"
       ]
      },
      {
       "html": [
        "<pre>PROGRESS: recommendations finished on 353000/453024 queries. users per second: 2038.13</pre>"
       ],
       "metadata": {},
       "output_type": "display_data",
       "text": [
        "PROGRESS: recommendations finished on 353000/453024 queries. users per second: 2038.13"
       ]
      },
      {
       "html": [
        "<pre>PROGRESS: recommendations finished on 354000/453024 queries. users per second: 2038.36</pre>"
       ],
       "metadata": {},
       "output_type": "display_data",
       "text": [
        "PROGRESS: recommendations finished on 354000/453024 queries. users per second: 2038.36"
       ]
      },
      {
       "html": [
        "<pre>PROGRESS: recommendations finished on 355000/453024 queries. users per second: 2038.52</pre>"
       ],
       "metadata": {},
       "output_type": "display_data",
       "text": [
        "PROGRESS: recommendations finished on 355000/453024 queries. users per second: 2038.52"
       ]
      },
      {
       "html": [
        "<pre>PROGRESS: recommendations finished on 356000/453024 queries. users per second: 2038.78</pre>"
       ],
       "metadata": {},
       "output_type": "display_data",
       "text": [
        "PROGRESS: recommendations finished on 356000/453024 queries. users per second: 2038.78"
       ]
      },
      {
       "html": [
        "<pre>PROGRESS: recommendations finished on 357000/453024 queries. users per second: 2038.82</pre>"
       ],
       "metadata": {},
       "output_type": "display_data",
       "text": [
        "PROGRESS: recommendations finished on 357000/453024 queries. users per second: 2038.82"
       ]
      },
      {
       "html": [
        "<pre>PROGRESS: recommendations finished on 358000/453024 queries. users per second: 2039.06</pre>"
       ],
       "metadata": {},
       "output_type": "display_data",
       "text": [
        "PROGRESS: recommendations finished on 358000/453024 queries. users per second: 2039.06"
       ]
      },
      {
       "html": [
        "<pre>PROGRESS: recommendations finished on 359000/453024 queries. users per second: 2039.27</pre>"
       ],
       "metadata": {},
       "output_type": "display_data",
       "text": [
        "PROGRESS: recommendations finished on 359000/453024 queries. users per second: 2039.27"
       ]
      },
      {
       "html": [
        "<pre>PROGRESS: recommendations finished on 360000/453024 queries. users per second: 2039.47</pre>"
       ],
       "metadata": {},
       "output_type": "display_data",
       "text": [
        "PROGRESS: recommendations finished on 360000/453024 queries. users per second: 2039.47"
       ]
      },
      {
       "html": [
        "<pre>PROGRESS: recommendations finished on 361000/453024 queries. users per second: 2039.67</pre>"
       ],
       "metadata": {},
       "output_type": "display_data",
       "text": [
        "PROGRESS: recommendations finished on 361000/453024 queries. users per second: 2039.67"
       ]
      },
      {
       "html": [
        "<pre>PROGRESS: recommendations finished on 362000/453024 queries. users per second: 2039.82</pre>"
       ],
       "metadata": {},
       "output_type": "display_data",
       "text": [
        "PROGRESS: recommendations finished on 362000/453024 queries. users per second: 2039.82"
       ]
      },
      {
       "html": [
        "<pre>PROGRESS: recommendations finished on 363000/453024 queries. users per second: 2040.01</pre>"
       ],
       "metadata": {},
       "output_type": "display_data",
       "text": [
        "PROGRESS: recommendations finished on 363000/453024 queries. users per second: 2040.01"
       ]
      },
      {
       "html": [
        "<pre>PROGRESS: recommendations finished on 364000/453024 queries. users per second: 2040.18</pre>"
       ],
       "metadata": {},
       "output_type": "display_data",
       "text": [
        "PROGRESS: recommendations finished on 364000/453024 queries. users per second: 2040.18"
       ]
      },
      {
       "html": [
        "<pre>PROGRESS: recommendations finished on 365000/453024 queries. users per second: 2040.31</pre>"
       ],
       "metadata": {},
       "output_type": "display_data",
       "text": [
        "PROGRESS: recommendations finished on 365000/453024 queries. users per second: 2040.31"
       ]
      },
      {
       "html": [
        "<pre>PROGRESS: recommendations finished on 366000/453024 queries. users per second: 2040.44</pre>"
       ],
       "metadata": {},
       "output_type": "display_data",
       "text": [
        "PROGRESS: recommendations finished on 366000/453024 queries. users per second: 2040.44"
       ]
      },
      {
       "html": [
        "<pre>PROGRESS: recommendations finished on 367000/453024 queries. users per second: 2040.64</pre>"
       ],
       "metadata": {},
       "output_type": "display_data",
       "text": [
        "PROGRESS: recommendations finished on 367000/453024 queries. users per second: 2040.64"
       ]
      },
      {
       "html": [
        "<pre>PROGRESS: recommendations finished on 368000/453024 queries. users per second: 2040.86</pre>"
       ],
       "metadata": {},
       "output_type": "display_data",
       "text": [
        "PROGRESS: recommendations finished on 368000/453024 queries. users per second: 2040.86"
       ]
      },
      {
       "html": [
        "<pre>PROGRESS: recommendations finished on 369000/453024 queries. users per second: 2041</pre>"
       ],
       "metadata": {},
       "output_type": "display_data",
       "text": [
        "PROGRESS: recommendations finished on 369000/453024 queries. users per second: 2041"
       ]
      },
      {
       "html": [
        "<pre>PROGRESS: recommendations finished on 370000/453024 queries. users per second: 2041.27</pre>"
       ],
       "metadata": {},
       "output_type": "display_data",
       "text": [
        "PROGRESS: recommendations finished on 370000/453024 queries. users per second: 2041.27"
       ]
      },
      {
       "html": [
        "<pre>PROGRESS: recommendations finished on 371000/453024 queries. users per second: 2041.36</pre>"
       ],
       "metadata": {},
       "output_type": "display_data",
       "text": [
        "PROGRESS: recommendations finished on 371000/453024 queries. users per second: 2041.36"
       ]
      },
      {
       "html": [
        "<pre>PROGRESS: recommendations finished on 372000/453024 queries. users per second: 2041.55</pre>"
       ],
       "metadata": {},
       "output_type": "display_data",
       "text": [
        "PROGRESS: recommendations finished on 372000/453024 queries. users per second: 2041.55"
       ]
      },
      {
       "html": [
        "<pre>PROGRESS: recommendations finished on 373000/453024 queries. users per second: 2041.68</pre>"
       ],
       "metadata": {},
       "output_type": "display_data",
       "text": [
        "PROGRESS: recommendations finished on 373000/453024 queries. users per second: 2041.68"
       ]
      },
      {
       "html": [
        "<pre>PROGRESS: recommendations finished on 374000/453024 queries. users per second: 2041.87</pre>"
       ],
       "metadata": {},
       "output_type": "display_data",
       "text": [
        "PROGRESS: recommendations finished on 374000/453024 queries. users per second: 2041.87"
       ]
      },
      {
       "html": [
        "<pre>PROGRESS: recommendations finished on 375000/453024 queries. users per second: 2041.96</pre>"
       ],
       "metadata": {},
       "output_type": "display_data",
       "text": [
        "PROGRESS: recommendations finished on 375000/453024 queries. users per second: 2041.96"
       ]
      },
      {
       "html": [
        "<pre>PROGRESS: recommendations finished on 376000/453024 queries. users per second: 2042.2</pre>"
       ],
       "metadata": {},
       "output_type": "display_data",
       "text": [
        "PROGRESS: recommendations finished on 376000/453024 queries. users per second: 2042.2"
       ]
      },
      {
       "html": [
        "<pre>PROGRESS: recommendations finished on 377000/453024 queries. users per second: 2042.35</pre>"
       ],
       "metadata": {},
       "output_type": "display_data",
       "text": [
        "PROGRESS: recommendations finished on 377000/453024 queries. users per second: 2042.35"
       ]
      },
      {
       "html": [
        "<pre>PROGRESS: recommendations finished on 378000/453024 queries. users per second: 2042.48</pre>"
       ],
       "metadata": {},
       "output_type": "display_data",
       "text": [
        "PROGRESS: recommendations finished on 378000/453024 queries. users per second: 2042.48"
       ]
      },
      {
       "html": [
        "<pre>PROGRESS: recommendations finished on 379000/453024 queries. users per second: 2042.72</pre>"
       ],
       "metadata": {},
       "output_type": "display_data",
       "text": [
        "PROGRESS: recommendations finished on 379000/453024 queries. users per second: 2042.72"
       ]
      },
      {
       "html": [
        "<pre>PROGRESS: recommendations finished on 380000/453024 queries. users per second: 2042.86</pre>"
       ],
       "metadata": {},
       "output_type": "display_data",
       "text": [
        "PROGRESS: recommendations finished on 380000/453024 queries. users per second: 2042.86"
       ]
      },
      {
       "html": [
        "<pre>PROGRESS: recommendations finished on 381000/453024 queries. users per second: 2043.06</pre>"
       ],
       "metadata": {},
       "output_type": "display_data",
       "text": [
        "PROGRESS: recommendations finished on 381000/453024 queries. users per second: 2043.06"
       ]
      },
      {
       "html": [
        "<pre>PROGRESS: recommendations finished on 382000/453024 queries. users per second: 2043.34</pre>"
       ],
       "metadata": {},
       "output_type": "display_data",
       "text": [
        "PROGRESS: recommendations finished on 382000/453024 queries. users per second: 2043.34"
       ]
      },
      {
       "html": [
        "<pre>PROGRESS: recommendations finished on 383000/453024 queries. users per second: 2043.41</pre>"
       ],
       "metadata": {},
       "output_type": "display_data",
       "text": [
        "PROGRESS: recommendations finished on 383000/453024 queries. users per second: 2043.41"
       ]
      },
      {
       "html": [
        "<pre>PROGRESS: recommendations finished on 384000/453024 queries. users per second: 2043.39</pre>"
       ],
       "metadata": {},
       "output_type": "display_data",
       "text": [
        "PROGRESS: recommendations finished on 384000/453024 queries. users per second: 2043.39"
       ]
      },
      {
       "html": [
        "<pre>PROGRESS: recommendations finished on 385000/453024 queries. users per second: 2043.55</pre>"
       ],
       "metadata": {},
       "output_type": "display_data",
       "text": [
        "PROGRESS: recommendations finished on 385000/453024 queries. users per second: 2043.55"
       ]
      },
      {
       "html": [
        "<pre>PROGRESS: recommendations finished on 386000/453024 queries. users per second: 2043.82</pre>"
       ],
       "metadata": {},
       "output_type": "display_data",
       "text": [
        "PROGRESS: recommendations finished on 386000/453024 queries. users per second: 2043.82"
       ]
      },
      {
       "html": [
        "<pre>PROGRESS: recommendations finished on 387000/453024 queries. users per second: 2044.05</pre>"
       ],
       "metadata": {},
       "output_type": "display_data",
       "text": [
        "PROGRESS: recommendations finished on 387000/453024 queries. users per second: 2044.05"
       ]
      },
      {
       "html": [
        "<pre>PROGRESS: recommendations finished on 388000/453024 queries. users per second: 2044.24</pre>"
       ],
       "metadata": {},
       "output_type": "display_data",
       "text": [
        "PROGRESS: recommendations finished on 388000/453024 queries. users per second: 2044.24"
       ]
      },
      {
       "html": [
        "<pre>PROGRESS: recommendations finished on 389000/453024 queries. users per second: 2044.41</pre>"
       ],
       "metadata": {},
       "output_type": "display_data",
       "text": [
        "PROGRESS: recommendations finished on 389000/453024 queries. users per second: 2044.41"
       ]
      },
      {
       "html": [
        "<pre>PROGRESS: recommendations finished on 390000/453024 queries. users per second: 2044.61</pre>"
       ],
       "metadata": {},
       "output_type": "display_data",
       "text": [
        "PROGRESS: recommendations finished on 390000/453024 queries. users per second: 2044.61"
       ]
      },
      {
       "html": [
        "<pre>PROGRESS: recommendations finished on 391000/453024 queries. users per second: 2044.74</pre>"
       ],
       "metadata": {},
       "output_type": "display_data",
       "text": [
        "PROGRESS: recommendations finished on 391000/453024 queries. users per second: 2044.74"
       ]
      },
      {
       "html": [
        "<pre>PROGRESS: recommendations finished on 392000/453024 queries. users per second: 2044.94</pre>"
       ],
       "metadata": {},
       "output_type": "display_data",
       "text": [
        "PROGRESS: recommendations finished on 392000/453024 queries. users per second: 2044.94"
       ]
      },
      {
       "html": [
        "<pre>PROGRESS: recommendations finished on 393000/453024 queries. users per second: 2045.1</pre>"
       ],
       "metadata": {},
       "output_type": "display_data",
       "text": [
        "PROGRESS: recommendations finished on 393000/453024 queries. users per second: 2045.1"
       ]
      },
      {
       "html": [
        "<pre>PROGRESS: recommendations finished on 394000/453024 queries. users per second: 2045.27</pre>"
       ],
       "metadata": {},
       "output_type": "display_data",
       "text": [
        "PROGRESS: recommendations finished on 394000/453024 queries. users per second: 2045.27"
       ]
      },
      {
       "html": [
        "<pre>PROGRESS: recommendations finished on 395000/453024 queries. users per second: 2045.52</pre>"
       ],
       "metadata": {},
       "output_type": "display_data",
       "text": [
        "PROGRESS: recommendations finished on 395000/453024 queries. users per second: 2045.52"
       ]
      },
      {
       "html": [
        "<pre>PROGRESS: recommendations finished on 396000/453024 queries. users per second: 2045.63</pre>"
       ],
       "metadata": {},
       "output_type": "display_data",
       "text": [
        "PROGRESS: recommendations finished on 396000/453024 queries. users per second: 2045.63"
       ]
      },
      {
       "html": [
        "<pre>PROGRESS: recommendations finished on 397000/453024 queries. users per second: 2045.83</pre>"
       ],
       "metadata": {},
       "output_type": "display_data",
       "text": [
        "PROGRESS: recommendations finished on 397000/453024 queries. users per second: 2045.83"
       ]
      },
      {
       "html": [
        "<pre>PROGRESS: recommendations finished on 398000/453024 queries. users per second: 2046.01</pre>"
       ],
       "metadata": {},
       "output_type": "display_data",
       "text": [
        "PROGRESS: recommendations finished on 398000/453024 queries. users per second: 2046.01"
       ]
      },
      {
       "html": [
        "<pre>PROGRESS: recommendations finished on 399000/453024 queries. users per second: 2046.17</pre>"
       ],
       "metadata": {},
       "output_type": "display_data",
       "text": [
        "PROGRESS: recommendations finished on 399000/453024 queries. users per second: 2046.17"
       ]
      },
      {
       "html": [
        "<pre>PROGRESS: recommendations finished on 400000/453024 queries. users per second: 2046.35</pre>"
       ],
       "metadata": {},
       "output_type": "display_data",
       "text": [
        "PROGRESS: recommendations finished on 400000/453024 queries. users per second: 2046.35"
       ]
      },
      {
       "html": [
        "<pre>PROGRESS: recommendations finished on 401000/453024 queries. users per second: 2046.48</pre>"
       ],
       "metadata": {},
       "output_type": "display_data",
       "text": [
        "PROGRESS: recommendations finished on 401000/453024 queries. users per second: 2046.48"
       ]
      },
      {
       "html": [
        "<pre>PROGRESS: recommendations finished on 402000/453024 queries. users per second: 2046.61</pre>"
       ],
       "metadata": {},
       "output_type": "display_data",
       "text": [
        "PROGRESS: recommendations finished on 402000/453024 queries. users per second: 2046.61"
       ]
      },
      {
       "html": [
        "<pre>PROGRESS: recommendations finished on 403000/453024 queries. users per second: 2046.81</pre>"
       ],
       "metadata": {},
       "output_type": "display_data",
       "text": [
        "PROGRESS: recommendations finished on 403000/453024 queries. users per second: 2046.81"
       ]
      },
      {
       "html": [
        "<pre>PROGRESS: recommendations finished on 404000/453024 queries. users per second: 2046.95</pre>"
       ],
       "metadata": {},
       "output_type": "display_data",
       "text": [
        "PROGRESS: recommendations finished on 404000/453024 queries. users per second: 2046.95"
       ]
      },
      {
       "html": [
        "<pre>PROGRESS: recommendations finished on 405000/453024 queries. users per second: 2047.01</pre>"
       ],
       "metadata": {},
       "output_type": "display_data",
       "text": [
        "PROGRESS: recommendations finished on 405000/453024 queries. users per second: 2047.01"
       ]
      },
      {
       "html": [
        "<pre>PROGRESS: recommendations finished on 406000/453024 queries. users per second: 2047.12</pre>"
       ],
       "metadata": {},
       "output_type": "display_data",
       "text": [
        "PROGRESS: recommendations finished on 406000/453024 queries. users per second: 2047.12"
       ]
      },
      {
       "html": [
        "<pre>PROGRESS: recommendations finished on 407000/453024 queries. users per second: 2047.3</pre>"
       ],
       "metadata": {},
       "output_type": "display_data",
       "text": [
        "PROGRESS: recommendations finished on 407000/453024 queries. users per second: 2047.3"
       ]
      },
      {
       "html": [
        "<pre>PROGRESS: recommendations finished on 408000/453024 queries. users per second: 2047.38</pre>"
       ],
       "metadata": {},
       "output_type": "display_data",
       "text": [
        "PROGRESS: recommendations finished on 408000/453024 queries. users per second: 2047.38"
       ]
      },
      {
       "html": [
        "<pre>PROGRESS: recommendations finished on 409000/453024 queries. users per second: 2047.62</pre>"
       ],
       "metadata": {},
       "output_type": "display_data",
       "text": [
        "PROGRESS: recommendations finished on 409000/453024 queries. users per second: 2047.62"
       ]
      },
      {
       "html": [
        "<pre>PROGRESS: recommendations finished on 410000/453024 queries. users per second: 2047.76</pre>"
       ],
       "metadata": {},
       "output_type": "display_data",
       "text": [
        "PROGRESS: recommendations finished on 410000/453024 queries. users per second: 2047.76"
       ]
      },
      {
       "html": [
        "<pre>PROGRESS: recommendations finished on 411000/453024 queries. users per second: 2047.81</pre>"
       ],
       "metadata": {},
       "output_type": "display_data",
       "text": [
        "PROGRESS: recommendations finished on 411000/453024 queries. users per second: 2047.81"
       ]
      },
      {
       "html": [
        "<pre>PROGRESS: recommendations finished on 412000/453024 queries. users per second: 2048.01</pre>"
       ],
       "metadata": {},
       "output_type": "display_data",
       "text": [
        "PROGRESS: recommendations finished on 412000/453024 queries. users per second: 2048.01"
       ]
      },
      {
       "html": [
        "<pre>PROGRESS: recommendations finished on 413000/453024 queries. users per second: 2048.07</pre>"
       ],
       "metadata": {},
       "output_type": "display_data",
       "text": [
        "PROGRESS: recommendations finished on 413000/453024 queries. users per second: 2048.07"
       ]
      },
      {
       "html": [
        "<pre>PROGRESS: recommendations finished on 414000/453024 queries. users per second: 2048.23</pre>"
       ],
       "metadata": {},
       "output_type": "display_data",
       "text": [
        "PROGRESS: recommendations finished on 414000/453024 queries. users per second: 2048.23"
       ]
      },
      {
       "html": [
        "<pre>PROGRESS: recommendations finished on 415000/453024 queries. users per second: 2048.38</pre>"
       ],
       "metadata": {},
       "output_type": "display_data",
       "text": [
        "PROGRESS: recommendations finished on 415000/453024 queries. users per second: 2048.38"
       ]
      },
      {
       "html": [
        "<pre>PROGRESS: recommendations finished on 416000/453024 queries. users per second: 2048.44</pre>"
       ],
       "metadata": {},
       "output_type": "display_data",
       "text": [
        "PROGRESS: recommendations finished on 416000/453024 queries. users per second: 2048.44"
       ]
      },
      {
       "html": [
        "<pre>PROGRESS: recommendations finished on 417000/453024 queries. users per second: 2048.59</pre>"
       ],
       "metadata": {},
       "output_type": "display_data",
       "text": [
        "PROGRESS: recommendations finished on 417000/453024 queries. users per second: 2048.59"
       ]
      },
      {
       "html": [
        "<pre>PROGRESS: recommendations finished on 418000/453024 queries. users per second: 2048.71</pre>"
       ],
       "metadata": {},
       "output_type": "display_data",
       "text": [
        "PROGRESS: recommendations finished on 418000/453024 queries. users per second: 2048.71"
       ]
      },
      {
       "html": [
        "<pre>PROGRESS: recommendations finished on 419000/453024 queries. users per second: 2048.77</pre>"
       ],
       "metadata": {},
       "output_type": "display_data",
       "text": [
        "PROGRESS: recommendations finished on 419000/453024 queries. users per second: 2048.77"
       ]
      },
      {
       "html": [
        "<pre>PROGRESS: recommendations finished on 420000/453024 queries. users per second: 2048.89</pre>"
       ],
       "metadata": {},
       "output_type": "display_data",
       "text": [
        "PROGRESS: recommendations finished on 420000/453024 queries. users per second: 2048.89"
       ]
      },
      {
       "html": [
        "<pre>PROGRESS: recommendations finished on 421000/453024 queries. users per second: 2049.02</pre>"
       ],
       "metadata": {},
       "output_type": "display_data",
       "text": [
        "PROGRESS: recommendations finished on 421000/453024 queries. users per second: 2049.02"
       ]
      },
      {
       "html": [
        "<pre>PROGRESS: recommendations finished on 422000/453024 queries. users per second: 2049.02</pre>"
       ],
       "metadata": {},
       "output_type": "display_data",
       "text": [
        "PROGRESS: recommendations finished on 422000/453024 queries. users per second: 2049.02"
       ]
      },
      {
       "html": [
        "<pre>PROGRESS: recommendations finished on 423000/453024 queries. users per second: 2048.98</pre>"
       ],
       "metadata": {},
       "output_type": "display_data",
       "text": [
        "PROGRESS: recommendations finished on 423000/453024 queries. users per second: 2048.98"
       ]
      },
      {
       "html": [
        "<pre>PROGRESS: recommendations finished on 424000/453024 queries. users per second: 2049.06</pre>"
       ],
       "metadata": {},
       "output_type": "display_data",
       "text": [
        "PROGRESS: recommendations finished on 424000/453024 queries. users per second: 2049.06"
       ]
      },
      {
       "html": [
        "<pre>PROGRESS: recommendations finished on 425000/453024 queries. users per second: 2049.07</pre>"
       ],
       "metadata": {},
       "output_type": "display_data",
       "text": [
        "PROGRESS: recommendations finished on 425000/453024 queries. users per second: 2049.07"
       ]
      },
      {
       "html": [
        "<pre>PROGRESS: recommendations finished on 426000/453024 queries. users per second: 2049.18</pre>"
       ],
       "metadata": {},
       "output_type": "display_data",
       "text": [
        "PROGRESS: recommendations finished on 426000/453024 queries. users per second: 2049.18"
       ]
      },
      {
       "html": [
        "<pre>PROGRESS: recommendations finished on 427000/453024 queries. users per second: 2049.25</pre>"
       ],
       "metadata": {},
       "output_type": "display_data",
       "text": [
        "PROGRESS: recommendations finished on 427000/453024 queries. users per second: 2049.25"
       ]
      },
      {
       "html": [
        "<pre>PROGRESS: recommendations finished on 428000/453024 queries. users per second: 2049.32</pre>"
       ],
       "metadata": {},
       "output_type": "display_data",
       "text": [
        "PROGRESS: recommendations finished on 428000/453024 queries. users per second: 2049.32"
       ]
      },
      {
       "html": [
        "<pre>PROGRESS: recommendations finished on 429000/453024 queries. users per second: 2049.31</pre>"
       ],
       "metadata": {},
       "output_type": "display_data",
       "text": [
        "PROGRESS: recommendations finished on 429000/453024 queries. users per second: 2049.31"
       ]
      },
      {
       "html": [
        "<pre>PROGRESS: recommendations finished on 430000/453024 queries. users per second: 2049.46</pre>"
       ],
       "metadata": {},
       "output_type": "display_data",
       "text": [
        "PROGRESS: recommendations finished on 430000/453024 queries. users per second: 2049.46"
       ]
      },
      {
       "html": [
        "<pre>PROGRESS: recommendations finished on 431000/453024 queries. users per second: 2049.56</pre>"
       ],
       "metadata": {},
       "output_type": "display_data",
       "text": [
        "PROGRESS: recommendations finished on 431000/453024 queries. users per second: 2049.56"
       ]
      },
      {
       "html": [
        "<pre>PROGRESS: recommendations finished on 432000/453024 queries. users per second: 2049.63</pre>"
       ],
       "metadata": {},
       "output_type": "display_data",
       "text": [
        "PROGRESS: recommendations finished on 432000/453024 queries. users per second: 2049.63"
       ]
      },
      {
       "html": [
        "<pre>PROGRESS: recommendations finished on 433000/453024 queries. users per second: 2049.81</pre>"
       ],
       "metadata": {},
       "output_type": "display_data",
       "text": [
        "PROGRESS: recommendations finished on 433000/453024 queries. users per second: 2049.81"
       ]
      },
      {
       "html": [
        "<pre>PROGRESS: recommendations finished on 434000/453024 queries. users per second: 2049.93</pre>"
       ],
       "metadata": {},
       "output_type": "display_data",
       "text": [
        "PROGRESS: recommendations finished on 434000/453024 queries. users per second: 2049.93"
       ]
      },
      {
       "html": [
        "<pre>PROGRESS: recommendations finished on 435000/453024 queries. users per second: 2050.13</pre>"
       ],
       "metadata": {},
       "output_type": "display_data",
       "text": [
        "PROGRESS: recommendations finished on 435000/453024 queries. users per second: 2050.13"
       ]
      },
      {
       "html": [
        "<pre>PROGRESS: recommendations finished on 436000/453024 queries. users per second: 2050.29</pre>"
       ],
       "metadata": {},
       "output_type": "display_data",
       "text": [
        "PROGRESS: recommendations finished on 436000/453024 queries. users per second: 2050.29"
       ]
      },
      {
       "html": [
        "<pre>PROGRESS: recommendations finished on 437000/453024 queries. users per second: 2050.37</pre>"
       ],
       "metadata": {},
       "output_type": "display_data",
       "text": [
        "PROGRESS: recommendations finished on 437000/453024 queries. users per second: 2050.37"
       ]
      },
      {
       "html": [
        "<pre>PROGRESS: recommendations finished on 438000/453024 queries. users per second: 2050.45</pre>"
       ],
       "metadata": {},
       "output_type": "display_data",
       "text": [
        "PROGRESS: recommendations finished on 438000/453024 queries. users per second: 2050.45"
       ]
      },
      {
       "html": [
        "<pre>PROGRESS: recommendations finished on 439000/453024 queries. users per second: 2050.55</pre>"
       ],
       "metadata": {},
       "output_type": "display_data",
       "text": [
        "PROGRESS: recommendations finished on 439000/453024 queries. users per second: 2050.55"
       ]
      },
      {
       "html": [
        "<pre>PROGRESS: recommendations finished on 440000/453024 queries. users per second: 2050.3</pre>"
       ],
       "metadata": {},
       "output_type": "display_data",
       "text": [
        "PROGRESS: recommendations finished on 440000/453024 queries. users per second: 2050.3"
       ]
      },
      {
       "html": [
        "<pre>PROGRESS: recommendations finished on 441000/453024 queries. users per second: 2050.35</pre>"
       ],
       "metadata": {},
       "output_type": "display_data",
       "text": [
        "PROGRESS: recommendations finished on 441000/453024 queries. users per second: 2050.35"
       ]
      },
      {
       "html": [
        "<pre>PROGRESS: recommendations finished on 442000/453024 queries. users per second: 2050.37</pre>"
       ],
       "metadata": {},
       "output_type": "display_data",
       "text": [
        "PROGRESS: recommendations finished on 442000/453024 queries. users per second: 2050.37"
       ]
      },
      {
       "html": [
        "<pre>PROGRESS: recommendations finished on 443000/453024 queries. users per second: 2050.71</pre>"
       ],
       "metadata": {},
       "output_type": "display_data",
       "text": [
        "PROGRESS: recommendations finished on 443000/453024 queries. users per second: 2050.71"
       ]
      },
      {
       "html": [
        "<pre>PROGRESS: recommendations finished on 444000/453024 queries. users per second: 2050.1</pre>"
       ],
       "metadata": {},
       "output_type": "display_data",
       "text": [
        "PROGRESS: recommendations finished on 444000/453024 queries. users per second: 2050.1"
       ]
      },
      {
       "html": [
        "<pre>PROGRESS: recommendations finished on 445000/453024 queries. users per second: 2049.28</pre>"
       ],
       "metadata": {},
       "output_type": "display_data",
       "text": [
        "PROGRESS: recommendations finished on 445000/453024 queries. users per second: 2049.28"
       ]
      },
      {
       "html": [
        "<pre>PROGRESS: recommendations finished on 446000/453024 queries. users per second: 2048.45</pre>"
       ],
       "metadata": {},
       "output_type": "display_data",
       "text": [
        "PROGRESS: recommendations finished on 446000/453024 queries. users per second: 2048.45"
       ]
      },
      {
       "html": [
        "<pre>PROGRESS: recommendations finished on 447000/453024 queries. users per second: 2047.89</pre>"
       ],
       "metadata": {},
       "output_type": "display_data",
       "text": [
        "PROGRESS: recommendations finished on 447000/453024 queries. users per second: 2047.89"
       ]
      },
      {
       "html": [
        "<pre>PROGRESS: recommendations finished on 448000/453024 queries. users per second: 2047.31</pre>"
       ],
       "metadata": {},
       "output_type": "display_data",
       "text": [
        "PROGRESS: recommendations finished on 448000/453024 queries. users per second: 2047.31"
       ]
      },
      {
       "html": [
        "<pre>PROGRESS: recommendations finished on 449000/453024 queries. users per second: 2046.48</pre>"
       ],
       "metadata": {},
       "output_type": "display_data",
       "text": [
        "PROGRESS: recommendations finished on 449000/453024 queries. users per second: 2046.48"
       ]
      },
      {
       "html": [
        "<pre>PROGRESS: recommendations finished on 450000/453024 queries. users per second: 2045.57</pre>"
       ],
       "metadata": {},
       "output_type": "display_data",
       "text": [
        "PROGRESS: recommendations finished on 450000/453024 queries. users per second: 2045.57"
       ]
      },
      {
       "html": [
        "<pre>PROGRESS: recommendations finished on 451000/453024 queries. users per second: 2045.25</pre>"
       ],
       "metadata": {},
       "output_type": "display_data",
       "text": [
        "PROGRESS: recommendations finished on 451000/453024 queries. users per second: 2045.25"
       ]
      },
      {
       "html": [
        "<pre>PROGRESS: recommendations finished on 452000/453024 queries. users per second: 2044.18</pre>"
       ],
       "metadata": {},
       "output_type": "display_data",
       "text": [
        "PROGRESS: recommendations finished on 452000/453024 queries. users per second: 2044.18"
       ]
      },
      {
       "html": [
        "<pre>PROGRESS: recommendations finished on 453000/453024 queries. users per second: 2033.83</pre>"
       ],
       "metadata": {},
       "output_type": "display_data",
       "text": [
        "PROGRESS: recommendations finished on 453000/453024 queries. users per second: 2033.83"
       ]
      },
      {
       "output_type": "stream",
       "stream": "stdout",
       "text": [
        "\n",
        "Precision and recall summary statistics by cutoff"
       ]
      },
      {
       "output_type": "stream",
       "stream": "stdout",
       "text": [
        "\n",
        "+--------+-----------------+------------------+\n",
        "| cutoff |  mean_precision |   mean_recall    |\n",
        "+--------+-----------------+------------------+\n",
        "|   5    | 0.0313541887406 | 0.00944680990716 |\n",
        "|   10   | 0.0272597036802 | 0.0157296344449  |\n",
        "|   15   | 0.0249383402792 | 0.0210675314864  |\n",
        "+--------+-----------------+------------------+\n",
        "[3 rows x 3 columns]\n"
       ]
      },
      {
       "output_type": "stream",
       "stream": "stdout",
       "text": [
        "\n",
        "\n",
        "Overall RMSE: "
       ]
      },
      {
       "output_type": "stream",
       "stream": "stdout",
       "text": [
        " 0.888163413734\n",
        "\n",
        "Per User RMSE (best)\n",
        "+--------+-------+------------------+\n",
        "| userid | count |       rmse       |\n",
        "+--------+-------+------------------+\n",
        "| 318568 |   1   | 2.4070233037e-05 |\n",
        "+--------+-------+------------------+\n",
        "[1 rows x 3 columns]\n"
       ]
      },
      {
       "output_type": "stream",
       "stream": "stdout",
       "text": [
        "\n",
        "\n",
        "Per User RMSE (worst)\n",
        "+--------+-------+---------------+\n",
        "| userid | count |      rmse     |\n",
        "+--------+-------+---------------+\n",
        "| 419474 |   1   | 4.52736785004 |\n",
        "+--------+-------+---------------+\n",
        "[1 rows x 3 columns]\n"
       ]
      },
      {
       "output_type": "stream",
       "stream": "stdout",
       "text": [
        "\n",
        "\n",
        "Per Item RMSE (best)\n",
        "+---------+-------+-----------------+\n",
        "| movieid | count |       rmse      |\n",
        "+---------+-------+-----------------+\n",
        "|   915   |   1   | 0.0340154122413 |\n",
        "+---------+-------+-----------------+\n",
        "[1 rows x 3 columns]\n"
       ]
      },
      {
       "output_type": "stream",
       "stream": "stdout",
       "text": [
        "\n",
        "\n",
        "Per Item RMSE (worst)\n",
        "+---------+-------+---------------+\n",
        "| movieid | count |      rmse     |\n",
        "+---------+-------+---------------+\n",
        "|   2564  |   10  | 1.91045491865 |\n",
        "+---------+-------+---------------+\n",
        "[1 rows x 3 columns]\n",
        "\n"
       ]
      },
      {
       "metadata": {},
       "output_type": "pyout",
       "prompt_number": 8,
       "text": [
        "{'precision_recall_by_user': Columns:\n",
        "\tuserid\tint\n",
        "\tcutoff\tint\n",
        "\tprecision\tfloat\n",
        "\trecall\tfloat\n",
        "\tcount\tint\n",
        "\n",
        "Rows: 1359072\n",
        "\n",
        "Data:\n",
        "+--------+--------+----------------+-----------------+-------+\n",
        "| userid | cutoff |   precision    |      recall     | count |\n",
        "+--------+--------+----------------+-----------------+-------+\n",
        "|   1    |   5    |      0.8       | 0.0170212765957 |  235  |\n",
        "|   1    |   10   |      0.5       | 0.0212765957447 |  235  |\n",
        "|   1    |   15   | 0.466666666667 | 0.0297872340426 |  235  |\n",
        "|   2    |   5    |      0.0       |       0.0       |   7   |\n",
        "|   2    |   10   |      0.0       |       0.0       |   7   |\n",
        "|   2    |   15   |      0.0       |       0.0       |   7   |\n",
        "|   3    |   5    |      0.0       |       0.0       |   37  |\n",
        "|   3    |   10   |      0.0       |       0.0       |   37  |\n",
        "|   3    |   15   |      0.0       |       0.0       |   37  |\n",
        "|   4    |   5    |      0.0       |       0.0       |   5   |\n",
        "|  ...   |  ...   |      ...       |       ...       |  ...  |\n",
        "+--------+--------+----------------+-----------------+-------+\n",
        "[1359072 rows x 5 columns]\n",
        "Note: Only the head of the SFrame is printed.\n",
        "You can use print_rows(num_rows=m, num_columns=n) to print more rows and columns.,\n",
        " 'precision_recall_overall': Columns:\n",
        "\tcutoff\tint\n",
        "\tprecision\tfloat\n",
        "\trecall\tfloat\n",
        "\n",
        "Rows: 3\n",
        "\n",
        "Data:\n",
        "+--------+-----------------+------------------+\n",
        "| cutoff |    precision    |      recall      |\n",
        "+--------+-----------------+------------------+\n",
        "|   5    | 0.0313541887406 | 0.00944680990716 |\n",
        "|   10   | 0.0272597036802 | 0.0157296344449  |\n",
        "|   15   | 0.0249383402792 | 0.0210675314864  |\n",
        "+--------+-----------------+------------------+\n",
        "[3 rows x 3 columns]\n",
        ",\n",
        " 'rmse_by_item': Columns:\n",
        "\tmovieid\tint\n",
        "\tcount\tint\n",
        "\trmse\tfloat\n",
        "\n",
        "Rows: 17761\n",
        "\n",
        "Data:\n",
        "+---------+-------+----------------+\n",
        "| movieid | count |      rmse      |\n",
        "+---------+-------+----------------+\n",
        "|   7899  |  1442 | 0.881257028411 |\n",
        "|   5288  |   21  | 0.929706843965 |\n",
        "|   5684  |   14  | 0.71641731463  |\n",
        "|  14515  |   91  | 0.903952079789 |\n",
        "|  10273  |   92  | 0.795182531985 |\n",
        "|  11106  |   23  | 0.917332634974 |\n",
        "|   5531  |  196  | 0.801935640501 |\n",
        "|   5921  |   14  | 1.51357167965  |\n",
        "|  14406  |   24  | 0.909400696357 |\n",
        "|   2871  |   32  | 1.01237323009  |\n",
        "|   ...   |  ...  |      ...       |\n",
        "+---------+-------+----------------+\n",
        "[17761 rows x 3 columns]\n",
        "Note: Only the head of the SFrame is printed.\n",
        "You can use print_rows(num_rows=m, num_columns=n) to print more rows and columns.,\n",
        " 'rmse_by_user': Columns:\n",
        "\tuserid\tint\n",
        "\tcount\tint\n",
        "\trmse\tfloat\n",
        "\n",
        "Rows: 453024\n",
        "\n",
        "Data:\n",
        "+--------+-------+----------------+\n",
        "| userid | count |      rmse      |\n",
        "+--------+-------+----------------+\n",
        "| 211023 |   3   | 0.864035010146 |\n",
        "| 442699 |   18  | 0.521743281534 |\n",
        "| 79732  |   11  | 1.21808991455  |\n",
        "| 333842 |   65  | 0.74295639386  |\n",
        "|  7899  |   37  | 0.86514529054  |\n",
        "| 25263  |   2   | 0.585114795906 |\n",
        "| 453182 |   12  | 0.466558152072 |\n",
        "| 87629  |   26  | 0.561209620976 |\n",
        "| 459067 |   34  | 0.700004654829 |\n",
        "| 43116  |   28  | 1.27584138448  |\n",
        "|  ...   |  ...  |      ...       |\n",
        "+--------+-------+----------------+\n",
        "[453024 rows x 3 columns]\n",
        "Note: Only the head of the SFrame is printed.\n",
        "You can use print_rows(num_rows=m, num_columns=n) to print more rows and columns.,\n",
        " 'rmse_overall': 0.8881634137340938}"
       ]
      }
     ],
     "prompt_number": 8
    },
    {
     "cell_type": "code",
     "collapsed": false,
     "input": [
      "opts=m.get_current_options()"
     ],
     "language": "python",
     "metadata": {},
     "outputs": [],
     "prompt_number": 12
    },
    {
     "cell_type": "code",
     "collapsed": false,
     "input": [
      "opts"
     ],
     "language": "python",
     "metadata": {},
     "outputs": [
      {
       "metadata": {},
       "output_type": "pyout",
       "prompt_number": 13,
       "text": [
        "{'additional_iterations_if_unhealthy': 5,\n",
        " 'binary_target': 0,\n",
        " 'init_random_sigma': 0.01,\n",
        " 'item_id': 'movieid',\n",
        " 'linear_regularization': 1e-10,\n",
        " 'max_iterations': 4,\n",
        " 'nmf': 0,\n",
        " 'num_factors': 512,\n",
        " 'num_tempering_iterations': 4,\n",
        " 'random_seed': 0,\n",
        " 'regularization': 1e-08,\n",
        " 'regularization_type': 'normal',\n",
        " 'sgd_convergence_interval': 4,\n",
        " 'sgd_convergence_threshold': 1e-05,\n",
        " 'sgd_max_trial_iterations': 5,\n",
        " 'sgd_sampling_block_size': 131072,\n",
        " 'sgd_step_adjustment_interval': 4,\n",
        " 'sgd_step_size': 0.0,\n",
        " 'sgd_trial_sample_minimum_size': 10000,\n",
        " 'sgd_trial_sample_proportion': 0.125,\n",
        " 'side_data_factorization': 1,\n",
        " 'solver': 'sgd',\n",
        " 'step_size_decrease_rate': 0.75,\n",
        " 'target': 'rating',\n",
        " 'tempering_regularization_start_value': 1e-08,\n",
        " 'track_exact_loss': 0,\n",
        " 'user_id': 'userid'}"
       ]
      }
     ],
     "prompt_number": 13
    },
    {
     "cell_type": "code",
     "collapsed": false,
     "input": [
      "opts[\"regularization\"] "
     ],
     "language": "python",
     "metadata": {},
     "outputs": [
      {
       "metadata": {},
       "output_type": "pyout",
       "prompt_number": 17,
       "text": [
        "1e-05"
       ]
      }
     ],
     "prompt_number": 17
    },
    {
     "cell_type": "code",
     "collapsed": false,
     "input": [],
     "language": "python",
     "metadata": {},
     "outputs": []
    }
   ],
   "metadata": {}
  }
 ]
}